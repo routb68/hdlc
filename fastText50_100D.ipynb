{
  "cells": [
    {
      "cell_type": "markdown",
      "metadata": {
        "id": "view-in-github",
        "colab_type": "text"
      },
      "source": [
        "<a href=\"https://colab.research.google.com/github/routb68/hdlc/blob/main/fastText50_100D.ipynb\" target=\"_parent\"><img src=\"https://colab.research.google.com/assets/colab-badge.svg\" alt=\"Open In Colab\"/></a>"
      ]
    },
    {
      "cell_type": "markdown",
      "metadata": {
        "id": "cEgy0q72uvJh"
      },
      "source": [
        "#Model loading and Data loading"
      ]
    },
    {
      "cell_type": "code",
      "execution_count": null,
      "metadata": {
        "colab": {
          "base_uri": "https://localhost:8080/"
        },
        "id": "FjP8sQHMuP-6",
        "outputId": "77349778-ab83-4cf4-c2b3-4147df2f9c49"
      },
      "outputs": [
        {
          "output_type": "stream",
          "name": "stdout",
          "text": [
            "1010\n",
            "1010\n",
            "2020\n"
          ]
        },
        {
          "output_type": "execute_result",
          "data": {
            "text/plain": [
              "2779"
            ]
          },
          "metadata": {},
          "execution_count": 2
        }
      ],
      "source": [
        "import numpy as np\n",
        "import pickle\n",
        "from gensim.models import FastText\n",
        "import matplotlib.pyplot as plt\n",
        "from sklearn import preprocessing\n",
        "import random\n",
        "random.seed(10)\n",
        "# model = FastText.load('/content/drive/MyDrive/Fairness in machine learning/word embedding Models /Hindi/50/fasttext/hi-d50-m2-fasttext.model')\n",
        "# fasttext_transform = model.wv\n",
        "\n",
        "#data loading and attaching religion\n",
        "with open('/content/drive/MyDrive/Fairness in machine learning/HLDC   LDA preWork/df.pkl', 'rb') as file:\n",
        "    df = pickle.load(file)\n",
        "\n",
        "data, data_label = df['sentence_cleaned_split'], df['label']\n",
        "\n",
        "muslim = {\"अब्दुल\", \"अहमद\", \"आरिफ\", \"खां\", \"खालिद\", \"नदीम\", \"मुस्लिम\", \"मोहम्मद\", \"रिजवान\", \"सलीम\" }\n",
        "hindu = {\"अमरजीत\", \"आर्य\", \"आशीष\", \"ओमकार\", \"किशोर\", \"कुलदीप\", \"जयराम\", \"धीरेन्द्र\", \"नितिन\", \"मुलायम\", \"राजपूत\", \"रामानन्द\", \"विजयपाल\", \"विमलेश\", \"श्रीराम\"}\n",
        "\n",
        "\n",
        "gt_data,gt_label,gt_reli = [],[],[]\n",
        "\n",
        "num_hindu, num_muslim = 0,0\n",
        "for i in range(10000):\n",
        "  for x in data[i]:\n",
        "     for y in muslim:\n",
        "      if(x==y):\n",
        "        gt_data.append(data[i]);\n",
        "        gt_label.append(data_label[i])\n",
        "        gt_reli.append(1)\n",
        "        num_muslim += 1\n",
        "        break;\n",
        "\n",
        "\n",
        "     for y in hindu:\n",
        "      if(x==y):\n",
        "        gt_data.append(data[i]);\n",
        "        gt_label.append(data_label[i])\n",
        "        gt_reli.append(2)\n",
        "        num_hindu += 1\n",
        "        break;\n",
        "\n",
        "\n",
        "org_gt_data,org_gt_label,org_gt_reli =gt_data,gt_label,gt_reli\n",
        "\n",
        "gt_data,gt_label,gt_reli = [], [], []\n",
        "\n",
        "cnt1, cnt2 = 0, 0\n",
        "\n",
        "for i in range(len(org_gt_data)):\n",
        "  if(org_gt_reli[i]==1 and cnt1<1010):\n",
        "    gt_data.append(org_gt_data[i])\n",
        "    gt_label.append(org_gt_label[i])\n",
        "    gt_reli.append(org_gt_reli[i])\n",
        "    cnt1+=1;\n",
        "  elif (org_gt_reli[i]==2 and cnt2<1010):\n",
        "    gt_data.append(org_gt_data[i])\n",
        "    gt_label.append(org_gt_label[i])\n",
        "    gt_reli.append(org_gt_reli[i])\n",
        "    cnt2+=1;\n",
        "\n",
        "print(cnt1)\n",
        "print(cnt2)\n",
        "print(len(gt_data))\n",
        "len(org_gt_data)"
      ]
    },
    {
      "cell_type": "markdown",
      "metadata": {
        "id": "mfvxC2Nc4fub"
      },
      "source": [
        "#PCA function and w2v function"
      ]
    },
    {
      "cell_type": "markdown",
      "metadata": {
        "id": "CUQ3FQak4n8G"
      },
      "source": [
        "vector extrima min transformation"
      ]
    },
    {
      "cell_type": "code",
      "execution_count": null,
      "metadata": {
        "id": "F9Ynb8LK6D-s"
      },
      "outputs": [],
      "source": [
        "def w2v_min_transform(gt_data,fasttext_transform,num_data_points,dimension):# gt_data = ground truth data,\n",
        "                                                                            #fastText_transform = model.word2vec,\n",
        "                                                                            #dimension = dim of w2vec\n",
        "                                                                            #num_data_points = 2020 for our case\n",
        "\n",
        "  data_xx = []\n",
        "  for i in range(num_data_points):\n",
        "    temp = []\n",
        "    for j in gt_data[i]:\n",
        "      temp.append(fasttext_transform[j])\n",
        "    a = np.zeros((1,dimension))\n",
        "    for k in range(dimension):    #setting a bigger value to get min val in latter stage\n",
        "      a[0][k] = 1e9\n",
        "    for k in range(dimension):\n",
        "      for k1 in range(len(temp)):\n",
        "        c = 1.0 * (temp[k1][k])\n",
        "        if(abs(a[0][k])) > abs(c):\n",
        "          a[0][k] = c\n",
        "    data_xx.append(a)\n",
        "  pca_vec = np.zeros((num_data_points,dimension))\n",
        "  for i in range(num_data_points):\n",
        "    for j in range(dimension):\n",
        "      pca_vec[i][j] = data_xx[i][0][j]\n",
        "  return pca_vec"
      ]
    },
    {
      "cell_type": "markdown",
      "metadata": {
        "id": "Jymz0pxI4tEe"
      },
      "source": [
        "vector extrima max transformation"
      ]
    },
    {
      "cell_type": "code",
      "execution_count": null,
      "metadata": {
        "id": "5cemBg3eiDyd"
      },
      "outputs": [],
      "source": [
        "def w2v_max_transform(gt_data,fasttext_transform,num_data_points,dimension):# gt_data = ground truth data,\n",
        "                                                           #fastText_transform = model.word2vec,\n",
        "                                                           #dimension = dim of w2vec\n",
        "                                                           #num_data_points = 2020 for our case\n",
        "\n",
        "  data_xx = []\n",
        "  for i in range(num_data_points):\n",
        "    temp = []\n",
        "    for j in gt_data[i]:\n",
        "      temp.append(fasttext_transform[j])\n",
        "    a = np.zeros((1,dimension))\n",
        "\n",
        "    for k in range(dimension):\n",
        "      for k1 in range(len(temp)):\n",
        "        c = 1.0 * (temp[k1][k])\n",
        "        if(abs(a[0][k])) < abs(c):\n",
        "          a[0][k] = c\n",
        "    data_xx.append(a)\n",
        "  pca_vec = np.zeros((num_data_points,dimension))\n",
        "  for i in range(num_data_points):\n",
        "    for j in range(dimension):\n",
        "      pca_vec[i][j] = data_xx[i][0][j]\n",
        "  return pca_vec"
      ]
    },
    {
      "cell_type": "markdown",
      "metadata": {
        "id": "crbYppy84y8g"
      },
      "source": [
        "reconstruction error function"
      ]
    },
    {
      "cell_type": "code",
      "execution_count": null,
      "metadata": {
        "id": "4ZsUXL2X2Kok"
      },
      "outputs": [],
      "source": [
        "def re_error(n,pca_data,dimension,num_data):# n = number of principal component, x_data = pca_data,\n",
        "                                            # dimension = fast text transformesd dimension\n",
        "  total_cost, hindu_cost, muslim_cost = 0,0,0\n",
        "\n",
        "  pca_data = preprocessing.StandardScaler().fit_transform(pca_data)\n",
        "\n",
        "  #pca calculation\n",
        "  cov_mat = np.cov(np.transpose(pca_data))\n",
        "  eig_vals, eig_vecs = np.linalg.eig(cov_mat)\n",
        "  idx = eig_vals.argsort()[::-1]\n",
        "  eig_vals = eig_vals[idx]\n",
        "  eig_vecs = eig_vecs[:,idx]\n",
        "\n",
        "  # reconstruction error calculation\n",
        "  # x = cost, z = accumulative cost wrt dimension\n",
        "  x=0\n",
        "  for i in range(num_data):\n",
        "    x = 0\n",
        "    z = np.zeros((1,dimension))\n",
        "    for j in range(n):\n",
        "      z += (((np.dot(np.transpose(pca_data[i]),eig_vecs[j]))) * eig_vecs[j])\n",
        "\n",
        "    x += (np.linalg.norm (z - pca_data[i]))\n",
        "\n",
        "    total_cost += x\n",
        "    if gt_reli[i]==1:\n",
        "      muslim_cost += x\n",
        "    else :\n",
        "      hindu_cost += x\n",
        "  # print(total_cost)\n",
        "\n",
        "  total_cost /= num_data\n",
        "  hindu_cost /= (num_data/2)\n",
        "  muslim_cost /= (num_data/2)\n",
        "\n",
        "  return total_cost, hindu_cost, muslim_cost"
      ]
    },
    {
      "cell_type": "markdown",
      "metadata": {
        "id": "EupoG_l92EhK"
      },
      "source": [
        "#PCA reconstruction error for 50-dim fastText min vector extrima"
      ]
    },
    {
      "cell_type": "code",
      "execution_count": null,
      "metadata": {
        "id": "8_ZUOk4p6YRK"
      },
      "outputs": [],
      "source": [
        "pca_data = w2v_min_transform(gt_data,fasttext_transform,2020,50)"
      ]
    },
    {
      "cell_type": "code",
      "execution_count": null,
      "metadata": {
        "colab": {
          "base_uri": "https://localhost:8080/"
        },
        "id": "VJs4fqMzdCiF",
        "outputId": "40b94bdb-c553-4543-fd6c-0ff595f3a983"
      },
      "outputs": [
        {
          "name": "stdout",
          "output_type": "stream",
          "text": [
            "(2020, 50)\n"
          ]
        }
      ],
      "source": [
        "print(pca_data.shape)"
      ]
    },
    {
      "cell_type": "code",
      "execution_count": null,
      "metadata": {
        "colab": {
          "base_uri": "https://localhost:8080/"
        },
        "id": "gyLN3kukiviy",
        "outputId": "3f9eba1d-8b66-419f-84a7-24d35828c2cc"
      },
      "outputs": [
        {
          "data": {
            "text/plain": [
              "array([ 1.07709877e-03,  8.30160920e-04, -1.24376488e-03, -5.29757235e-04,\n",
              "       -1.03868049e-04,  2.05982011e-03, -1.83660979e-03,  8.05126270e-04,\n",
              "       -2.87996721e-04,  1.86692341e-03,  1.05186179e-03,  4.62971220e-05,\n",
              "       -9.79432021e-04, -2.86958716e-03, -2.04483955e-03, -4.44780989e-03,\n",
              "       -2.20323354e-03,  4.37608454e-03, -6.54245669e-04,  3.31250834e-03,\n",
              "        2.42299889e-03, -2.37014098e-03, -8.45621061e-03, -5.71361324e-03,\n",
              "        1.47180899e-05, -2.69899750e-03, -2.97536771e-03,  7.04783294e-03,\n",
              "       -1.25982577e-03,  7.83319026e-03,  5.82185853e-03,  3.40172648e-03,\n",
              "        2.65216059e-03, -2.58499029e-04, -6.27139211e-03, -1.85257508e-04,\n",
              "        1.08902459e-03, -7.72859342e-03,  6.01321878e-03,  7.32210744e-03,\n",
              "       -1.62703649e-03,  1.03536248e-03, -5.06747281e-03, -7.01799011e-03,\n",
              "        2.63671880e-03, -8.63786135e-03,  8.49821372e-04,  3.25222802e-03,\n",
              "       -9.28418431e-03, -6.25381130e-04])"
            ]
          },
          "execution_count": 28,
          "metadata": {},
          "output_type": "execute_result"
        }
      ],
      "source": [
        "pca_data[0]"
      ]
    },
    {
      "cell_type": "code",
      "execution_count": null,
      "metadata": {
        "id": "rv33QWkp6t7E"
      },
      "outputs": [],
      "source": [
        "x1 = []\n",
        "for i in range(1,50):\n",
        "  x1.append(i)"
      ]
    },
    {
      "cell_type": "code",
      "execution_count": null,
      "metadata": {
        "colab": {
          "base_uri": "https://localhost:8080/"
        },
        "id": "BxgU-Bx_2yYC",
        "outputId": "cfc988ea-4d11-4694-f10f-9a69e46e39c9"
      },
      "outputs": [
        {
          "name": "stdout",
          "output_type": "stream",
          "text": [
            "[5.470829505974891, 5.420577667035358, 5.363284889323535, 5.299956352532726, 5.246370128556743, 5.187722590761171, 5.118681153265057, 5.055206101549089, 4.9977496700267166, 4.948098283574772, 4.880971962929335, 4.8277344258135395, 4.7617571346340855, 4.691204437444163, 4.627295782009654, 4.558998111778686, 4.479647521469079, 4.422545890212222, 4.345309712804964, 4.286703749542227, 4.217054282348759, 4.147399294324908, 4.06721068677044, 3.9998036128870504, 3.9256309882993103, 3.8404827361329277, 3.7508139466764483, 3.676809515737246, 3.6076404579792105, 3.5190641806816845, 3.434539286827362, 3.3626536558428004, 3.2680855412732965, 3.1742688005887816, 3.0645915066225244, 2.964635737573891, 2.855234315505097, 2.7407383916083474, 2.6375675691209928, 2.5077426197964785, 2.3798595586331874, 2.250304309192206, 2.115733003897379, 1.94948874497624, 1.7915562024380611, 1.5764631760708336, 1.3273377265048554, 1.1030941064901083, 0.6458729470044821]\n",
            "[5.625816534577659, 5.569277680596516, 5.512646243002564, 5.451412183746618, 5.3881432187907885, 5.327280487593236, 5.259827714538458, 5.19573095383831, 5.1388441195677785, 5.076801864679019, 5.006519309905891, 4.954259061844814, 4.892479197082765, 4.825832767375418, 4.7521922310015094, 4.681903153009498, 4.603590034405473, 4.541256547356837, 4.4649169164356515, 4.404001524838005, 4.3354380541829185, 4.2635259064351425, 4.18558449650293, 4.119068997083203, 4.035765218288676, 3.9516964194323427, 3.8618654680703544, 3.778229931647669, 3.697602413069898, 3.6117054978562377, 3.5231760039045508, 3.439971881309261, 3.3443604229018273, 3.249956566275292, 3.138173089970951, 3.0290806851176444, 2.9120083150286526, 2.7824970367273085, 2.665677944059106, 2.5424360977394054, 2.4030121164754794, 2.268545475491665, 2.1171219573662103, 1.9511787440509623, 1.7875829770060556, 1.579558146742315, 1.3282807790164477, 1.082729881468532, 0.6594349566416573]\n",
            "[5.780803563180428, 5.717977694157654, 5.662007596681606, 5.602868014960499, 5.5299163090248005, 5.466838384425278, 5.40097427581185, 5.3362558061275305, 5.279938569108826, 5.205505445783296, 5.132066656882452, 5.080783697876098, 5.023201259531397, 4.9604610973066725, 4.877088679993392, 4.8048081942403105, 4.727532547341885, 4.659967204501466, 4.584524120066351, 4.521299300133789, 4.453821826017096, 4.379652518545405, 4.303958306235448, 4.238334381279348, 4.145899448278076, 4.062910102731737, 3.972916989464277, 3.8796503475580697, 3.787564368160584, 3.704346815030825, 3.6118127209817836, 3.5172901067757376, 3.4206353045303697, 3.3256443319618194, 3.211754673319417, 3.0935256326614016, 2.9687823145522145, 2.8242556818462465, 2.693788318997213, 2.5771295756823354, 2.426164674317752, 2.286786641791135, 2.1185109108350475, 1.95286874312566, 1.7836097515740374, 1.5826531174137974, 1.3292238315280445, 1.0623656564469566, 0.6729969662788337]\n"
          ]
        }
      ],
      "source": [
        "reconstruction_error_total, reconstruction_error_hindu, reconstruction_error_muslim = [], [], []\n",
        "\n",
        "for i in range(1,50):\n",
        "  re_t,re_h,re_m = re_error(i,pca_data,50,2020)\n",
        "  reconstruction_error_total.append(re_t)\n",
        "  reconstruction_error_hindu.append(re_h)\n",
        "  reconstruction_error_muslim.append(re_m)\n",
        "  # print()\n",
        "\n",
        "print(reconstruction_error_muslim)\n",
        "print(reconstruction_error_total)\n",
        "print(reconstruction_error_hindu)"
      ]
    },
    {
      "cell_type": "code",
      "execution_count": null,
      "metadata": {
        "colab": {
          "base_uri": "https://localhost:8080/",
          "height": 472
        },
        "id": "Rl4Xk2zw3wrN",
        "outputId": "b69bf3dd-9c7c-4896-c947-9d70a7c70581"
      },
      "outputs": [
        {
          "data": {
            "image/png": "[encoded data removed]",
            "text/plain": [
              "<Figure size 640x480 with 1 Axes>"
            ]
          },
          "metadata": {},
          "output_type": "display_data"
        }
      ],
      "source": [
        "plt.plot(x1, reconstruction_error_total,label ='reconstruction_error_total')\n",
        "plt.plot(x1, reconstruction_error_hindu, '-.',label ='reconstruction_error_hindu')\n",
        "plt.plot(x1,reconstruction_error_muslim,'-*',label ='reconstruction_error_muslim')\n",
        "\n",
        "plt.xlabel(\"number of principal componenet\")\n",
        "plt.ylabel(\"reconstruction error\")\n",
        "plt.legend()\n",
        "plt.title('PCA reconstruction error for 50-dim fastText min vector extrima')\n",
        "plt.savefig(\"PCA reconstruction error for 50-dim fastText min vector extrima.png\")\n",
        "plt.show()"
      ]
    },
    {
      "cell_type": "markdown",
      "metadata": {
        "id": "xVXOkGxF53iK"
      },
      "source": [
        "#PCA and Reconstruction error for 50-dim fastText max vec extrima"
      ]
    },
    {
      "cell_type": "code",
      "execution_count": null,
      "metadata": {
        "colab": {
          "base_uri": "https://localhost:8080/"
        },
        "id": "H4dVZN956KGH",
        "outputId": "b809df0b-11cb-4f84-9f7a-d7c68a82b9ff"
      },
      "outputs": [
        {
          "name": "stdout",
          "output_type": "stream",
          "text": [
            "(2020, 50)\n"
          ]
        }
      ],
      "source": [
        "pca_data = w2v_max_transform(gt_data,fasttext_transform,2020,50)\n",
        "print(pca_data.shape)"
      ]
    },
    {
      "cell_type": "code",
      "execution_count": null,
      "metadata": {
        "colab": {
          "base_uri": "https://localhost:8080/"
        },
        "id": "aiAqg07h6Ycn",
        "outputId": "3bd88407-b5d6-4e25-c515-9e93f1234aff"
      },
      "outputs": [
        {
          "data": {
            "text/plain": [
              "array([-1.2010287 , -1.2765826 ,  0.98640114,  1.05392003,  1.30456686,\n",
              "       -2.18976593,  1.35549664, -1.14469612, -0.90612406,  0.96817648,\n",
              "       -1.28930295,  0.85991973,  1.08092582, -0.94047266, -1.00494206,\n",
              "        1.69116735, -1.13952339,  1.05759263,  1.01453066, -1.65191853,\n",
              "       -1.0148977 ,  0.91679794, -1.35873425, -1.04121995,  1.13095045,\n",
              "        1.24226391, -1.20315886, -1.1621604 ,  1.32178485, -1.12339246,\n",
              "        1.04079223, -1.3295877 , -1.29140413, -1.2137984 , -1.17036879,\n",
              "       -1.06714976,  1.01361358, -1.55359948,  0.9924162 ,  1.56769741,\n",
              "       -1.48972476,  1.22116542, -1.63826978,  1.90437996, -1.41763031,\n",
              "        0.92958516, -1.14849997,  1.13470614, -1.61597276, -1.20311987])"
            ]
          },
          "execution_count": 33,
          "metadata": {},
          "output_type": "execute_result"
        }
      ],
      "source": [
        "pca_data[0]"
      ]
    },
    {
      "cell_type": "code",
      "execution_count": null,
      "metadata": {
        "colab": {
          "base_uri": "https://localhost:8080/"
        },
        "id": "WBDoRbBx6a1r",
        "outputId": "1138f8d1-3bd8-418e-e426-e9ba31eb48a1"
      },
      "outputs": [
        {
          "name": "stdout",
          "output_type": "stream",
          "text": [
            "[6.606375870198106, 6.522805918940125, 6.435644704833296, 6.357330179107808, 6.28563813895655, 6.2296104296515304, 6.16043610630621, 6.080648497866481, 6.01460177424806, 5.938488103118073, 5.868735669634211, 5.793811223843419, 5.717358366861976, 5.627443626741641, 5.547941537889726, 5.471419637000567, 5.39376363775442, 5.311880130323188, 5.249404795587461, 5.174114081885971, 5.100999082684801, 5.024977965573671, 4.933306094703088, 4.865604256251491, 4.762231860391702, 4.6674174168627225, 4.5640294550898535, 4.4622784104378095, 4.361179949060886, 4.245325155773254, 4.130069688362715, 4.016728443606281, 3.9351732426423713, 3.758612077184933, 3.665676602696326, 3.5082774719630954, 3.356890120361313, 3.2051170382712395, 3.088217390733696, 2.9590990847637726, 2.822630570760548, 2.6098356758018264, 2.4221228101497974, 2.2236708751599545, 1.9948672021408438, 1.736996941681778, 1.474730532846063, 1.1402552026124342, 0.7809872013780784]\n",
            "[6.704816836141582, 6.624135054293107, 6.544953791469382, 6.469975500630534, 6.398617275338706, 6.337405093758708, 6.269637087933536, 6.1908727922986575, 6.118810230173789, 6.042345682353308, 5.963474968265705, 5.881574448825497, 5.80782588304834, 5.716904558229532, 5.63652864137956, 5.552624628970203, 5.470705209301614, 5.389657296294809, 5.319602216224609, 5.239636320231506, 5.144810409149135, 5.0677378889785665, 4.974441625073957, 4.899698616745997, 4.800737535015732, 4.6967463381685475, 4.601567633930622, 4.490857710211733, 4.3963572430021145, 4.283196247029977, 4.169208221684353, 4.059058045370565, 3.970626765133931, 3.823105750248024, 3.7138172489921293, 3.559922632175281, 3.415639291638349, 3.2586521578618055, 3.105640678498318, 2.969141891400442, 2.8301498056435843, 2.6295763459503996, 2.4323752177955047, 2.229991768209567, 2.0126521197850886, 1.7693500393799062, 1.5082566624554732, 1.1583418152191296, 0.7537392646420464]\n",
            "[6.803257802085016, 6.725464189646054, 6.654262878105463, 6.582620822153265, 6.51159641172083, 6.445199757865845, 6.378838069560865, 6.301097086730807, 6.223018686099503, 6.146203261588521, 6.058214266897206, 5.969337673807577, 5.8982933992346736, 5.80636548971743, 5.725115744869399, 5.633829620939863, 5.547646780848806, 5.467434462266413, 5.389799636861693, 5.305158558577063, 5.188621735613473, 5.110497812383472, 5.015577155444816, 4.933792977240484, 4.839243209639792, 4.726075259474396, 4.639105812771355, 4.519437009985667, 4.431534536943328, 4.321067338286706, 4.208346755005988, 4.1013876471348425, 4.006080287625479, 3.887599423311098, 3.7619578952879174, 3.611567792387479, 3.474388462915397, 3.3121872774523258, 3.123063966262941, 2.9791846980371113, 2.8376690405266336, 2.649317016098998, 2.442627625441217, 2.236312661259184, 2.0304370374293295, 1.8017031370780312, 1.541782792064898, 1.1764284278258308, 0.7264913279060073]\n"
          ]
        }
      ],
      "source": [
        "reconstruction_error_total, reconstruction_error_hindu, reconstruction_error_muslim = [], [], []\n",
        "\n",
        "for i in range(1,50):\n",
        "  re_t,re_h,re_m = re_error(i,pca_data,50,2020)\n",
        "  reconstruction_error_total.append(re_t)\n",
        "  reconstruction_error_hindu.append(re_h)\n",
        "  reconstruction_error_muslim.append(re_m)\n",
        "  # print()\n",
        "\n",
        "print(reconstruction_error_muslim)\n",
        "print(reconstruction_error_total)\n",
        "print(reconstruction_error_hindu)"
      ]
    },
    {
      "cell_type": "code",
      "execution_count": null,
      "metadata": {
        "colab": {
          "base_uri": "https://localhost:8080/",
          "height": 472
        },
        "id": "l2Zcm1Mg6krq",
        "outputId": "0e83df66-7cd8-4499-a7d0-1e844f27022b"
      },
      "outputs": [
        {
          "data": {
            "image/png": "[encoded data removed]",
            "text/plain": [
              "<Figure size 640x480 with 1 Axes>"
            ]
          },
          "metadata": {},
          "output_type": "display_data"
        }
      ],
      "source": [
        "plt.plot(x1, reconstruction_error_total,label ='reconstruction_error_total')\n",
        "plt.plot(x1, reconstruction_error_hindu, '-.',label ='reconstruction_error_hindu')\n",
        "plt.plot(x1,reconstruction_error_muslim,'-*',label ='reconstruction_error_muslim')\n",
        "\n",
        "plt.xlabel(\"number of principal componenet\")\n",
        "plt.ylabel(\"reconstruction error\")\n",
        "plt.legend()\n",
        "plt.title('PCA reconstruction error for 50-dim fastText max vector extrima')\n",
        "plt.savefig(\"PCA reconstruction error for 50-dim fastText max vector extrima.png\")\n",
        "plt.show()"
      ]
    },
    {
      "cell_type": "markdown",
      "metadata": {
        "id": "WyREBT9O53vY"
      },
      "source": [
        "# fast text 100 dimension"
      ]
    },
    {
      "cell_type": "code",
      "execution_count": null,
      "metadata": {
        "id": "1z-QJvd79A9l"
      },
      "outputs": [],
      "source": [
        "model100 = FastText.load('/content/drive/MyDrive/Fairness in machine learning/word embedding Models /Hindi/100/fasttext/hi-d100-m2-fasttext.model')\n",
        "fasttext_transform100 = model100.wv"
      ]
    },
    {
      "cell_type": "markdown",
      "metadata": {
        "id": "mjspNRs39Xgc"
      },
      "source": [
        "min vec extrima"
      ]
    },
    {
      "cell_type": "code",
      "execution_count": null,
      "metadata": {
        "colab": {
          "base_uri": "https://localhost:8080/"
        },
        "id": "atfcCDDH9SZa",
        "outputId": "c10da390-fc44-4e28-a857-4cea47a74b32"
      },
      "outputs": [
        {
          "name": "stdout",
          "output_type": "stream",
          "text": [
            "(2020, 100)\n"
          ]
        }
      ],
      "source": [
        "pca_data = w2v_min_transform(gt_data,fasttext_transform100,2020,100)\n",
        "print(pca_data.shape)"
      ]
    },
    {
      "cell_type": "code",
      "execution_count": null,
      "metadata": {
        "colab": {
          "base_uri": "https://localhost:8080/"
        },
        "id": "ajgyPT-F9gNR",
        "outputId": "fffef560-9909-49ca-ccc6-d89ac0017b82"
      },
      "outputs": [
        {
          "data": {
            "text/plain": [
              "array([-7.64198776e-04, -2.05200375e-03,  2.03723367e-03, -1.97480549e-04,\n",
              "        3.21455969e-04,  1.21124298e-03, -1.80775707e-03,  1.25328705e-04,\n",
              "        1.25945138e-03, -7.10322696e-04, -1.09990442e-03, -5.25985146e-04,\n",
              "        2.65740580e-03, -6.33239746e-04, -4.00255551e-04, -1.04899064e-03,\n",
              "       -3.86488438e-03, -4.06521931e-03, -5.59187494e-03,  1.98370879e-04,\n",
              "        1.23898193e-04, -2.07105908e-03,  9.85734072e-03, -4.17744415e-03,\n",
              "       -3.90652521e-03, -1.43721967e-03, -1.30961626e-03,  2.23577023e-04,\n",
              "       -2.42121960e-03,  3.57583584e-03,  1.45798700e-03, -1.90155406e-03,\n",
              "       -1.28936765e-04, -5.01044618e-04, -1.04899157e-03,  5.39731991e-04,\n",
              "       -3.35905468e-04, -6.35328889e-03, -1.20978698e-03, -2.05291132e-03,\n",
              "       -1.91606791e-03,  1.06540986e-03, -8.94769561e-04, -1.05103187e-03,\n",
              "        2.44227564e-03, -5.31729078e-04, -7.83562660e-04,  1.30565546e-03,\n",
              "        6.16808711e-06, -1.30079582e-03, -1.06280495e-03,  9.01324383e-04,\n",
              "       -2.69491225e-03, -2.02220399e-03,  1.40656321e-03, -1.45449303e-03,\n",
              "       -2.59343069e-03, -1.65591354e-03,  3.45926685e-03,  1.39986421e-03,\n",
              "        2.17689248e-03,  4.24594386e-03,  2.74512451e-04,  5.69445873e-03,\n",
              "       -7.91742059e-04,  1.51209126e-03,  1.37454655e-03,  3.04939738e-03,\n",
              "       -3.52273230e-03,  5.42675378e-03, -3.82274389e-04,  6.40614453e-05,\n",
              "       -3.97920609e-04,  2.89694476e-03,  1.14826963e-03,  2.32548313e-03,\n",
              "       -6.34713622e-04,  2.02663010e-03, -6.19868442e-05,  2.11224565e-03,\n",
              "        4.11755522e-04,  2.09246483e-03, -5.28746564e-03, -1.47338328e-03,\n",
              "        3.54661187e-03, -7.71988489e-05, -9.52305389e-04, -8.65040638e-04,\n",
              "        5.47047891e-03,  1.54622959e-03, -1.74235040e-03,  2.42646527e-03,\n",
              "       -4.98462818e-04,  4.18929663e-03,  6.44457992e-04,  6.22966094e-04,\n",
              "       -3.03628622e-03,  5.80487773e-03,  4.24057245e-04, -8.79074432e-05])"
            ]
          },
          "execution_count": 38,
          "metadata": {},
          "output_type": "execute_result"
        }
      ],
      "source": [
        "pca_data[0]"
      ]
    },
    {
      "cell_type": "code",
      "execution_count": null,
      "metadata": {
        "colab": {
          "base_uri": "https://localhost:8080/"
        },
        "id": "IJK9QcnE9izH",
        "outputId": "3850d2bf-74a5-4502-ad12-a30f9997c605"
      },
      "outputs": [
        {
          "name": "stdout",
          "output_type": "stream",
          "text": [
            "[8.095771760431619, 8.057825914246713, 8.024451777268233, 7.985805689386017, 7.945751186699354, 7.9055313904844615, 7.867219021560823, 7.8254000660716345, 7.776019192678947, 7.7349859962198755, 7.691614491562361, 7.653659739071431, 7.615574157952759, 7.573135993129974, 7.526721110391852, 7.486238582070905, 7.445991912043381, 7.405052112777734, 7.364715622210909, 7.319498350094413, 7.274487544307708, 7.226898735632043, 7.176159027547158, 7.132118483916278, 7.0882128859410205, 7.038809243714364, 6.988914820518391, 6.9436973639304655, 6.899862579739498, 6.852150980008326, 6.799078769144208, 6.746428992511801, 6.696102142230018, 6.649706050458213, 6.598038467130352, 6.552650547621428, 6.511072659982042, 6.454485392124266, 6.406046582669588, 6.343419117416278, 6.295249613181631, 6.239998709466363, 6.191252931126196, 6.143517185363396, 6.089886261078967, 6.0328930153602895, 5.982960134049461, 5.929414647858954, 5.875331252975333, 5.820270696713124, 5.757240647583528, 5.686612882969427, 5.621077657661994, 5.569409175581889, 5.51957528952361, 5.447684092959733, 5.3765789934735695, 5.310790166292289, 5.255814246092391, 5.18622495117879, 5.129338712431448, 5.063008614705368, 4.986713177872732, 4.912712815392081, 4.843240805126291, 4.773034919750638, 4.707802071052228, 4.6360052366934665, 4.568946503899178, 4.501786232793714, 4.4321084478076775, 4.337619460651402, 4.267389377779482, 4.18251818657071, 4.099822985928155, 4.007016343932863, 3.9170590289719325, 3.8357669214048706, 3.7466843523719926, 3.6571626226466063, 3.56415032940815, 3.48410905264849, 3.3872680207324657, 3.2950423485253073, 3.1689327015329014, 3.0530754009268892, 2.9330825713751922, 2.829943840002815, 2.7107121081419305, 2.5836329495986634, 2.4606355591547837, 2.299204198071112, 2.1475408928833235, 1.942217092214241, 1.7364041066914582, 1.5352404646591353, 1.3051249164361716, 1.0203011959122366, 0.6248803404919947]\n",
            "[8.313078560595962, 8.27338571771331, 8.2373601458124, 8.192467911817836, 8.150463481473393, 8.111048351000317, 8.069182834239212, 8.02271013979323, 7.978539694611652, 7.935126634737645, 7.886422730942934, 7.847111661024103, 7.802310719195047, 7.758738265260093, 7.711175598696841, 7.666854206930483, 7.623595308082847, 7.579953477855037, 7.53792639428912, 7.490223937044524, 7.4431511887390664, 7.39721714743127, 7.348851051271431, 7.303239664625137, 7.260097869132666, 7.211530903456067, 7.16177309424402, 7.111163066461522, 7.064306268293844, 7.015760192312831, 6.963297587562189, 6.910370028879674, 6.857582867102948, 6.811156261046828, 6.760189352461053, 6.710511101112041, 6.665601839320562, 6.607672051461129, 6.55792183952778, 6.498422746863867, 6.4431307477703, 6.387901538944935, 6.336222978540363, 6.284647910709052, 6.228024012453186, 6.16876182572204, 6.114488546624135, 6.0561929155661565, 6.000357187350251, 5.943305387030841, 5.881330956729089, 5.808760020338376, 5.746932348339735, 5.684132031204319, 5.625242790354502, 5.5579593746336435, 5.491549602952376, 5.424291615030976, 5.363178067945876, 5.295782225568771, 5.236865903472576, 5.1626689658174705, 5.086753633501183, 5.0138101056782505, 4.9426410500126465, 4.873482873803925, 4.805717238542834, 4.730290208592158, 4.654930352697858, 4.587189582995675, 4.514965157841388, 4.424233492074219, 4.351558421182087, 4.268181357084436, 4.182904717393329, 4.0916358116823375, 4.004046494415938, 3.921722950223547, 3.8346236794267132, 3.747450893085416, 3.653555304467911, 3.565374954376752, 3.4715667467717677, 3.372180300099569, 3.246726794407292, 3.13538225876898, 3.0186340202270467, 2.9124376799352083, 2.7898118063482773, 2.6468217837952657, 2.5048250256572713, 2.3423495341573695, 2.1872981367638213, 1.9932308103176204, 1.7933082801297697, 1.580464727290782, 1.3501017391090464, 1.0556363278131833, 0.6652253647635825]\n",
            "[8.530385360760382, 8.488945521179987, 8.450268514356573, 8.399130134249665, 8.355175776247496, 8.316565311516179, 8.27114664691758, 8.220020213514747, 8.181060196544328, 8.135267273255447, 8.081230970323503, 8.040563582976782, 7.98904728043731, 7.9443405373901514, 7.895630087001769, 7.8474698317900735, 7.801198704122275, 7.754854842932353, 7.711137166367371, 7.660949523994627, 7.611814833170439, 7.567535559230487, 7.521543074995675, 7.474360845333988, 7.431982852324325, 7.384252563197752, 7.334631367969671, 7.278628768992585, 7.2287499568482065, 7.179369404617265, 7.127516405980216, 7.074311065247578, 7.019063591975836, 6.972606471635442, 6.922340237791734, 6.868371654602631, 6.820131018659097, 6.760858710797908, 6.709797096386024, 6.653426376311478, 6.5910118823589965, 6.535804368423538, 6.48119302595455, 6.425778636054695, 6.366161763827481, 6.304630636083831, 6.246016959198819, 6.182971183273365, 6.125383121725165, 6.066340077348536, 6.005421265874618, 5.93090715770734, 5.872787039017501, 5.798854886826737, 5.73091029118539, 5.668234656307545, 5.606520212431189, 5.53779306376965, 5.470541889799365, 5.405339499958764, 5.34439309451373, 5.262329316929541, 5.1867940891296085, 5.114907395964382, 5.042041294899005, 4.973930827857234, 4.903632406033446, 4.824575180490824, 4.740914201496513, 4.672592933197657, 4.597821867875111, 4.5108475234970395, 4.435727464584701, 4.353844527598201, 4.2659864488585235, 4.176255279431775, 4.091033959859928, 4.007678979042212, 3.9225630064814445, 3.8377391635242613, 3.742960279527639, 3.6466408561049892, 3.5558654728110546, 3.449318251673823, 3.3245208872816656, 3.217689116611091, 3.104185469078904, 2.994931519867595, 2.8689115045546254, 2.71001061799185, 2.549014492159775, 2.385494870243627, 2.2270553806443214, 2.0442445284210025, 1.8502124535680855, 1.6256889899224227, 1.3950785617819064, 1.0909714597141293, 0.7055703890351716]\n"
          ]
        }
      ],
      "source": [
        "reconstruction_error_total, reconstruction_error_hindu, reconstruction_error_muslim = [], [], []\n",
        "\n",
        "for i in range(1,100):\n",
        "  re_t,re_h,re_m = re_error(i,pca_data,100,2020)\n",
        "  reconstruction_error_total.append(re_t)\n",
        "  reconstruction_error_hindu.append(re_h)\n",
        "  reconstruction_error_muslim.append(re_m)\n",
        "  # print()\n",
        "\n",
        "print(reconstruction_error_muslim)\n",
        "print(reconstruction_error_total)\n",
        "print(reconstruction_error_hindu)"
      ]
    },
    {
      "cell_type": "code",
      "execution_count": null,
      "metadata": {
        "id": "iLVOKfMh9ovr"
      },
      "outputs": [],
      "source": [
        "x1 = []\n",
        "for i in range(1,100):\n",
        "  x1.append(i)"
      ]
    },
    {
      "cell_type": "code",
      "execution_count": null,
      "metadata": {
        "colab": {
          "base_uri": "https://localhost:8080/",
          "height": 472
        },
        "id": "PPpxJP-e9xN2",
        "outputId": "ac29d5fe-7676-48c0-d3e5-9456ae0e5510"
      },
      "outputs": [
        {
          "data": {
            "image/png": "[encoded data removed]",
            "text/plain": [
              "<Figure size 640x480 with 1 Axes>"
            ]
          },
          "metadata": {},
          "output_type": "display_data"
        }
      ],
      "source": [
        "plt.plot(x1, reconstruction_error_total,label ='reconstruction_error_total')\n",
        "plt.plot(x1, reconstruction_error_hindu, '-.',label ='reconstruction_error_hindu')\n",
        "plt.plot(x1,reconstruction_error_muslim,'-*',label ='reconstruction_error_muslim')\n",
        "\n",
        "plt.xlabel(\"number of principal componenet\")\n",
        "plt.ylabel(\"reconstruction error\")\n",
        "plt.legend()\n",
        "plt.title('PCA reconstruction error for 100-dim fastText min vector extrima')\n",
        "plt.savefig(\"PCA reconstruction error for 100-dim fastText min vector extrima.png\")\n",
        "plt.show()"
      ]
    },
    {
      "cell_type": "markdown",
      "metadata": {
        "id": "rGrD5Lzh94G8"
      },
      "source": [
        "max vec extrima"
      ]
    },
    {
      "cell_type": "code",
      "execution_count": null,
      "metadata": {
        "colab": {
          "base_uri": "https://localhost:8080/"
        },
        "id": "P8qssY1795z7",
        "outputId": "e0026002-9a50-455f-d7a8-a3a0fee0eaeb"
      },
      "outputs": [
        {
          "name": "stdout",
          "output_type": "stream",
          "text": [
            "(2020, 100)\n"
          ]
        }
      ],
      "source": [
        "pca_data = w2v_max_transform(gt_data,fasttext_transform100,2020,100)\n",
        "print(pca_data.shape)"
      ]
    },
    {
      "cell_type": "code",
      "execution_count": null,
      "metadata": {
        "colab": {
          "base_uri": "https://localhost:8080/"
        },
        "id": "aj3IxysL9-U9",
        "outputId": "8deeefc0-5541-4184-fece-edb6b9cc28cf"
      },
      "outputs": [
        {
          "data": {
            "text/plain": [
              "array([-1.27245522,  0.81457013,  0.86962807, -0.7662704 ,  0.67745048,\n",
              "        1.27145243, -1.10148013,  0.79724681,  1.02799618,  0.92518467,\n",
              "       -0.78557473, -0.8519209 , -0.76711887,  0.96652704,  0.72323567,\n",
              "        0.8784771 , -0.83238518, -1.37432694, -0.93472159,  1.15410638,\n",
              "       -0.91296721, -1.2170912 , -1.28989398, -0.89790255,  1.25988591,\n",
              "        0.90290999, -1.27828574,  0.81347913, -0.93898225, -1.03919697,\n",
              "        0.70911694,  0.65601671, -1.25310349, -0.81669557, -1.07235491,\n",
              "        0.95127553,  0.90204942, -1.41280746, -1.32029772,  0.99138814,\n",
              "        0.88504291, -0.88295603, -0.85286522, -0.81035948,  1.03282166,\n",
              "        1.06521988,  1.07597256,  1.14555097,  0.89517212,  0.82245106,\n",
              "        1.5201894 ,  1.33533144,  1.18544078, -0.8431831 ,  0.8477369 ,\n",
              "        1.35343766,  0.81356227, -0.87624568,  1.01498067,  1.01275158,\n",
              "       -1.11173427,  1.07031667, -0.97656518, -1.41956723,  1.16020358,\n",
              "       -1.01347268, -1.31468439,  1.21540618,  1.15466273, -1.41241789,\n",
              "        1.20061922, -0.7490288 ,  1.21416032,  0.84984875, -1.09607637,\n",
              "        0.70353031,  1.30951238, -1.01218784, -0.84481055, -0.92189866,\n",
              "        0.86723495,  0.92390984, -1.03532243,  1.11232364, -1.35034251,\n",
              "        1.02148283, -1.01504815,  0.89571136, -1.65516269,  0.90951878,\n",
              "       -1.34754276, -1.01006067, -0.92359203, -0.85705495, -1.12145007,\n",
              "       -0.89545423, -0.78218526, -0.90565586, -1.12385321,  0.71776873])"
            ]
          },
          "execution_count": 43,
          "metadata": {},
          "output_type": "execute_result"
        }
      ],
      "source": [
        "pca_data[0]"
      ]
    },
    {
      "cell_type": "code",
      "execution_count": null,
      "metadata": {
        "colab": {
          "base_uri": "https://localhost:8080/"
        },
        "id": "z8qcmH7v-AZA",
        "outputId": "c5be85c7-2b70-4306-cc3c-04036540b284"
      },
      "outputs": [
        {
          "name": "stdout",
          "output_type": "stream",
          "text": [
            "[9.324554700928516, 9.274613164892576, 9.232017124474893, 9.184730087282992, 9.133864142508596, 9.096148083318345, 9.049553038824696, 9.006743914778431, 8.946804595175472, 8.881884805603146, 8.817726921781242, 8.75139329047203, 8.703464708829527, 8.658302438732134, 8.61429558295851, 8.558094312942261, 8.514341987483682, 8.461948382227323, 8.412769189925633, 8.368399704478618, 8.319667772178317, 8.27105733306136, 8.211031209975207, 8.157886442824402, 8.0810966558233, 8.022948266579156, 7.967502512017974, 7.916609590887924, 7.855428661184914, 7.798968910997695, 7.72518186993849, 7.676716247982243, 7.6073320779084765, 7.550199868487645, 7.502314671245285, 7.433159218007617, 7.391749606160176, 7.3371616132810455, 7.278691693688883, 7.201226718259813, 7.123328004224391, 7.070958079244242, 7.020513271735044, 6.945932351896921, 6.889171727600415, 6.838438087972426, 6.771162046342015, 6.7040039634506225, 6.634840298727967, 6.552471302450721, 6.483076163398672, 6.4133077072078715, 6.3502039849673375, 6.292866406217733, 6.211379398041378, 6.132896843567713, 6.050415960889072, 5.977757309260391, 5.919237418455687, 5.85646019394113, 5.760613945043162, 5.663208349016401, 5.579018404785144, 5.517509351195655, 5.46922918862713, 5.384981923312796, 5.31247405820532, 5.228887008090849, 5.1556960457062875, 5.070760703004515, 4.972595521070757, 4.8832954030916245, 4.7900714416804115, 4.6970270371559595, 4.598328554245042, 4.521507005642123, 4.4165308984985385, 4.325077860829348, 4.2290729763558375, 4.143666998307048, 3.9791011301061987, 3.8723057574148725, 3.748007804654524, 3.628963403644033, 3.532420663010201, 3.4115695883409427, 3.273547370058384, 3.1553349103340422, 2.9634898463676986, 2.8284490978683414, 2.648734855980336, 2.485736853075961, 2.3208011294006674, 2.097483596049841, 1.902707951236438, 1.731356337915946, 1.4402060629928688, 1.1369630284011303, 0.7976432173943787]\n",
            "[9.549688890250978, 9.502561724706062, 9.457457660202175, 9.410553147817131, 9.359782811793941, 9.318492268232037, 9.26684925097442, 9.220870260700837, 9.16749485087713, 9.106764566842772, 9.048050946642926, 8.981785353972525, 8.934366332463496, 8.889522132495829, 8.83972749631939, 8.78038188536797, 8.736346382354101, 8.682367623035901, 8.63166892717187, 8.577833002406356, 8.52389324645946, 8.476821002227755, 8.416787637551456, 8.358574236014979, 8.292343754820465, 8.232273299711633, 8.17871613808875, 8.12462536506914, 8.061095132018087, 8.009558750221249, 7.942070543763953, 7.892908913001889, 7.812981823719375, 7.747574590472971, 7.691920404777755, 7.621925240527565, 7.570480742577793, 7.509686302502963, 7.447013834217956, 7.37508763216978, 7.302043617205137, 7.251562357000641, 7.1936889641879995, 7.120723019738882, 7.062505066426714, 7.003361359143278, 6.931403137757239, 6.867863947352025, 6.795841566222539, 6.714694585307331, 6.646988606975104, 6.579830959945491, 6.511720125298926, 6.449155327820111, 6.37303646702122, 6.294323963344354, 6.218845190849373, 6.14952680153039, 6.082573536231846, 6.010019438130105, 5.905222152730575, 5.815669838550106, 5.728741255083608, 5.654326429457782, 5.5850253126446425, 5.500401777935051, 5.424473792619459, 5.345436996038216, 5.263366854272731, 5.1723652754392315, 5.085279835099299, 5.000261900401741, 4.904126222579637, 4.800192152819533, 4.70476268925842, 4.61416474240527, 4.497932980646807, 4.409047449344713, 4.308297837515282, 4.206555423700315, 4.067368277759273, 3.9618818960426077, 3.840099088478118, 3.7274670811185855, 3.625378081904821, 3.5003222493167727, 3.3679081991628705, 3.2359191410820864, 3.0555457233786356, 2.92262841762588, 2.753933437823975, 2.581845453243687, 2.4108454793541556, 2.1916119635315363, 1.9751195415766494, 1.7871441282734295, 1.4911620859118542, 1.1724669889688262, 0.8090116872327195]\n",
            "[9.774823079573391, 9.730510284519662, 9.682898195929427, 9.636376208351214, 9.585701481079258, 9.540836453145758, 9.48414546312414, 9.434996606623233, 9.388185106578769, 9.331644328082337, 9.27837497150461, 9.212177417473063, 9.165267956097425, 9.120741826259513, 9.065159409680213, 9.002669457793653, 8.958350777224487, 8.902786863844446, 8.850568664418116, 8.787266300334046, 8.72811872074061, 8.68258467139412, 8.622544065127684, 8.559262029205572, 8.503590853817578, 8.44159833284409, 8.389929764159547, 8.33264113925032, 8.266761602851245, 8.220148589444808, 8.158959217589405, 8.109101578021548, 8.018631569530292, 7.94494931245829, 7.881526138310297, 7.810691263047528, 7.749211878995419, 7.682210991724883, 7.615335974747063, 7.548948546079722, 7.4807592301858366, 7.432166634757014, 7.366864656641016, 7.2955136875808515, 7.235838405253068, 7.168284630314099, 7.091644229172508, 7.031723931253419, 6.9568428337171495, 6.8769178681639085, 6.8109010505516006, 6.746354212683063, 6.673236265630524, 6.605444249422529, 6.534693536001004, 6.455751083120984, 6.387274420809721, 6.321296293800405, 6.245909654007973, 6.1635786823190335, 6.049830360417984, 5.968131328083746, 5.878464105382114, 5.79114350771987, 5.700821436662164, 5.615821632557321, 5.536473527033601, 5.461986983985554, 5.371037662839154, 5.273969847873944, 5.19796414912787, 5.117228397711841, 5.018181003478891, 4.90335726848309, 4.811196824271774, 4.706822479168422, 4.579335062795049, 4.493017037860052, 4.387522698674725, 4.269443849093577, 4.155635425412333, 4.051458034670328, 3.9321903723017018, 3.825970758593133, 3.7183355007994523, 3.5890749102926085, 3.462269028267377, 3.3165033718301498, 3.1476016003895637, 3.0168077373834055, 2.859132019667627, 2.6779540534114132, 2.5008898293076287, 2.285740331013223, 2.047531131916867, 1.8429319186309128, 1.5421181088308324, 1.2079709495365203, 0.8203801570710642]\n"
          ]
        }
      ],
      "source": [
        "reconstruction_error_total, reconstruction_error_hindu, reconstruction_error_muslim = [], [], []\n",
        "\n",
        "for i in range(1,100):\n",
        "  re_t,re_h,re_m = re_error(i,pca_data,100,2020)\n",
        "  reconstruction_error_total.append(re_t)\n",
        "  reconstruction_error_hindu.append(re_h)\n",
        "  reconstruction_error_muslim.append(re_m)\n",
        "  # print()\n",
        "\n",
        "print(reconstruction_error_muslim)\n",
        "print(reconstruction_error_total)\n",
        "print(reconstruction_error_hindu)"
      ]
    },
    {
      "cell_type": "code",
      "execution_count": null,
      "metadata": {
        "colab": {
          "base_uri": "https://localhost:8080/",
          "height": 472
        },
        "id": "3KHg9XbG-Ckv",
        "outputId": "c0c4bf8f-f4ce-4ff8-9d44-ba9b04ed46e8"
      },
      "outputs": [
        {
          "data": {
            "image/png": "[encoded data removed]",
            "text/plain": [
              "<Figure size 640x480 with 1 Axes>"
            ]
          },
          "metadata": {},
          "output_type": "display_data"
        }
      ],
      "source": [
        "plt.plot(x1, reconstruction_error_total,label ='reconstruction_error_total')\n",
        "plt.plot(x1, reconstruction_error_hindu, '-.',label ='reconstruction_error_hindu')\n",
        "plt.plot(x1,reconstruction_error_muslim,'-*',label ='reconstruction_error_muslim')\n",
        "\n",
        "plt.xlabel(\"number of principal componenet\")\n",
        "plt.ylabel(\"reconstruction error\")\n",
        "plt.legend()\n",
        "plt.title('PCA reconstruction error for 100-dim fastText max vector extrima')\n",
        "plt.savefig(\"PCA reconstruction error for 100-dim fastText max vector extrima.png\")\n",
        "plt.show()"
      ]
    },
    {
      "cell_type": "markdown",
      "metadata": {
        "id": "sYs2ccez2E8u"
      },
      "source": [
        "#fast Text 50 max min concatenation"
      ]
    },
    {
      "cell_type": "code",
      "execution_count": null,
      "metadata": {
        "id": "UJEXszaeNtEs"
      },
      "outputs": [],
      "source": [
        "def concatenation_vec_generator(gt_data,fasttext_transform,num_data_points,dimension):# gt_data = ground truth data,\n",
        "                                                                                      #fastText_transform = model.word2vec,\n",
        "                                                                                      #dimension = dim of w2vec\n",
        "                                                                                      #num_data_points = 2020 for our case\n",
        "  pca_data_min = w2v_min_transform(gt_data,fasttext_transform,num_data_points,dimension)\n",
        "  pca_data_max = w2v_max_transform(gt_data,fasttext_transform,num_data_points,dimension)\n",
        "\n",
        "  conca_vec = np.zeros((num_data_points,2*dimension))\n",
        "  for i in range(num_data_points):\n",
        "    for j in range(dimension):\n",
        "      conca_vec[i][j] = pca_data_min[i][j]\n",
        "    for j in range(dimension, 2*dimension):\n",
        "      conca_vec[i][j] = pca_data_max[i][j-dimension]\n",
        "\n",
        "  return conca_vec"
      ]
    },
    {
      "cell_type": "code",
      "execution_count": null,
      "metadata": {
        "id": "deCyH7YLP89u"
      },
      "outputs": [],
      "source": [
        "conca_vec = concatenation_vec_generator(gt_data,fasttext_transform,2020,50)"
      ]
    },
    {
      "cell_type": "code",
      "execution_count": null,
      "metadata": {
        "id": "6G1rCC4mRDnl"
      },
      "outputs": [],
      "source": [
        "x1 = []\n",
        "for i in range(1,100):\n",
        "  x1.append(i)"
      ]
    },
    {
      "cell_type": "code",
      "execution_count": null,
      "metadata": {
        "colab": {
          "base_uri": "https://localhost:8080/"
        },
        "id": "LRwA4-k8TFcD",
        "outputId": "f5535f62-d9b8-4641-fd76-c14aef5092a3"
      },
      "outputs": [
        {
          "name": "stdout",
          "output_type": "stream",
          "text": [
            "[8.889501029125888, 8.843038489353736, 8.790331955010087, 8.745510316616508, 8.700819313982503, 8.660487284473131, 8.60747876561984, 8.554837961334373, 8.49440093067341, 8.453366877578883, 8.401288148420813, 8.349743623508166, 8.294087452015516, 8.246471954362415, 8.173219866513955, 8.132174173180777, 8.08809514633218, 8.042552717741716, 7.990978092260691, 7.9372576333415505, 7.887441938525215, 7.837121750048273, 7.786678239599917, 7.741367225932445, 7.681970504832429, 7.624680706424392, 7.580548710832706, 7.53089171101634, 7.4739420059589365, 7.412856282533352, 7.350545373621399, 7.293426266341533, 7.242757103872837, 7.173294637321306, 7.110510457788958, 7.046220885667611, 6.993459341222512, 6.929519263184031, 6.855576560302288, 6.8001130239175085, 6.742525698697283, 6.683814804685912, 6.613590402233809, 6.561997474990912, 6.4964947180229755, 6.434682444232819, 6.36396201726154, 6.302806653354117, 6.2409636972541565, 6.179292437214247, 6.121985816691657, 6.067967962498647, 6.006931086289015, 5.939525069316976, 5.870665959310619, 5.79379814049175, 5.727431604593727, 5.658370333103094, 5.599190033856488, 5.536524914632274, 5.476656550683971, 5.401653499958948, 5.340614832760889, 5.272735026257896, 5.191467884091536, 5.106669047610136, 5.019787221724412, 4.950945463140192, 4.868400299542736, 4.779094285550432, 4.685430865802565, 4.606285479711662, 4.526245505952201, 4.436832642454375, 4.356127515849431, 4.274199814900665, 4.169410153669597, 4.058198937980436, 3.9601033873989033, 3.868646131049694, 3.7736397217408246, 3.6629947071991915, 3.5581234250741653, 3.456405051199364, 3.3352932033902403, 3.2379038387054515, 3.1332452778201714, 3.002429194245335, 2.871568799672388, 2.7379993934999822, 2.5731725043816667, 2.430455057357085, 2.2292325649586244, 2.062320006216794, 1.8409391129852242, 1.6223076101575462, 1.3805279927021272, 1.1261748388272743, 0.7012163142967692]\n",
            "[9.091385184694635, 9.04563300529653, 8.996193047018625, 8.949973646325656, 8.898858948829933, 8.855616051183967, 8.803827714780908, 8.752545454953657, 8.69833471356206, 8.657791532399226, 8.605110756390518, 8.555195328960918, 8.498980070110767, 8.449511752173317, 8.38858113383472, 8.336857149211163, 8.286753368896294, 8.236147793640061, 8.184552254821652, 8.130085642335889, 8.07574249578161, 8.026238649263497, 7.977684295101236, 7.928861421093994, 7.867175085514904, 7.808335728864695, 7.7622658493753995, 7.712676542590769, 7.656651607661987, 7.597010270948364, 7.537424056682463, 7.480704550622054, 7.425370207468582, 7.360062509801121, 7.298294766022964, 7.236760906010548, 7.175468388654292, 7.108968568025741, 7.041601288881035, 6.984751418137094, 6.927639749332499, 6.8698964184715505, 6.79877906746023, 6.74552734090182, 6.6826646667283365, 6.618576086696976, 6.55449280233101, 6.489103506074221, 6.426209475236662, 6.369048285217058, 6.307898679543033, 6.248946038806422, 6.185688527531325, 6.12164442006562, 6.055214714404417, 5.986657664689908, 5.915168576709746, 5.848685987285481, 5.783863526122241, 5.713595330146057, 5.650161584218439, 5.569599269634533, 5.4994265816112495, 5.427800702050595, 5.343354711019795, 5.257525577198819, 5.176047081630646, 5.102370583211419, 5.017359127356221, 4.93242000916033, 4.844516338194519, 4.761422579077403, 4.680081696980457, 4.585941267391246, 4.500653359535633, 4.414524619018601, 4.318132881119466, 4.216992475949378, 4.117627085271816, 4.023039113897894, 3.926392374546265, 3.817188248526974, 3.7014914030590225, 3.5960357737408306, 3.485483842073329, 3.376757421961904, 3.262711056863982, 3.1154316469764303, 2.9963750499731674, 2.858136536818619, 2.6953650432272274, 2.5477144520559016, 2.344718369206733, 2.151206351345373, 1.9102024188119604, 1.690632858711452, 1.4384728613112878, 1.1595484593213001, 0.7104618481854438]\n",
            "[9.293269340263436, 9.248227521239256, 9.202054139027167, 9.15443697603478, 9.096898583677373, 9.050744817894742, 9.000176663941991, 8.950252948572981, 8.902268496450684, 8.862216187219591, 8.808933364360163, 8.76064703441357, 8.703872688205903, 8.652551549984171, 8.603942401155516, 8.541540125241484, 8.485411591460412, 8.42974286953838, 8.37812641738255, 8.322913651330179, 8.264043053037994, 8.21535554847871, 8.16869035060249, 8.11635561625557, 8.052379666197464, 7.991990751305107, 7.943982987918083, 7.894461374165209, 7.839361209365049, 7.781164259363367, 7.724302739743489, 7.667982834902516, 7.607983311064357, 7.54683038228088, 7.48607907425697, 7.427300926353514, 7.3574774360860715, 7.288417872867473, 7.227626017459824, 7.169389812356716, 7.112753799967716, 7.055978032257104, 6.983967732686642, 6.9290572068127565, 6.868834615433712, 6.802469729161192, 6.745023587400429, 6.675400358794289, 6.61145525321915, 6.558804133219885, 6.493811542394377, 6.429924115114233, 6.364445968773666, 6.30376377081432, 6.239763469498249, 6.179517188888054, 6.102905548825754, 6.039001641467904, 5.968537018387996, 5.890665745659843, 5.823666617752886, 5.737545039310142, 5.658238330461613, 5.582866377843316, 5.495241537948046, 5.408382106787485, 5.332306941536847, 5.253795703282675, 5.1663179551697125, 5.085745732770266, 5.0036018105864875, 4.91655967844316, 4.833917888008719, 4.735049892328108, 4.645179203221788, 4.554849423136538, 4.466855608569322, 4.375786013918308, 4.2751507831446895, 4.177432096746129, 4.079145027351724, 3.971381789854753, 3.844859381043902, 3.7356664962823416, 3.635674480756414, 3.5156110052183576, 3.3921768359077578, 3.2284340997075134, 3.121181300273945, 2.9782736801372356, 2.817557582072778, 2.664973846754729, 2.4602041734548457, 2.2400926964739623, 1.9794657246386917, 1.7589581072653395, 1.4964177299204608, 1.192922079815316, 0.7197073820741163]\n"
          ]
        }
      ],
      "source": [
        "reconstruction_error_total, reconstruction_error_hindu, reconstruction_error_muslim = [], [], []\n",
        "\n",
        "for i in range(1,100):\n",
        "  re_t,re_h,re_m = re_error(i,conca_vec,100,2020)\n",
        "  reconstruction_error_total.append(re_t)\n",
        "  reconstruction_error_hindu.append(re_h)\n",
        "  reconstruction_error_muslim.append(re_m)\n",
        "  # print()\n",
        "\n",
        "print(reconstruction_error_muslim)\n",
        "print(reconstruction_error_total)\n",
        "print(reconstruction_error_hindu)"
      ]
    },
    {
      "cell_type": "code",
      "execution_count": null,
      "metadata": {
        "colab": {
          "base_uri": "https://localhost:8080/",
          "height": 472
        },
        "id": "5djPsx5dWSCC",
        "outputId": "195afa5a-a5eb-486e-d23a-b29d03783b3d"
      },
      "outputs": [
        {
          "data": {
            "image/png": "[encoded data removed]",
            "text/plain": [
              "<Figure size 640x480 with 1 Axes>"
            ]
          },
          "metadata": {},
          "output_type": "display_data"
        }
      ],
      "source": [
        "plt.plot(x1, reconstruction_error_total,label ='reconstruction_error_total')\n",
        "plt.plot(x1, reconstruction_error_hindu, '-.',label ='reconstruction_error_hindu')\n",
        "plt.plot(x1,reconstruction_error_muslim,'-*',label ='reconstruction_error_muslim')\n",
        "\n",
        "plt.xlabel(\"number of principal componenet\")\n",
        "plt.ylabel(\"reconstruction error\")\n",
        "plt.legend()\n",
        "plt.title('PCA reconstruction error for fast Text 50 max min concatenation vector extrima')\n",
        "plt.savefig(\"PCA reconstruction error for fast Text 50 max min concatenation vector extrima.png\")\n",
        "plt.show()"
      ]
    },
    {
      "cell_type": "markdown",
      "metadata": {
        "id": "WVYvH1RaCiZy"
      },
      "source": [
        "#normalized pca error for 50 D"
      ]
    },
    {
      "cell_type": "code",
      "execution_count": null,
      "metadata": {
        "id": "pkMqbdLb__dA"
      },
      "outputs": [],
      "source": [
        "def normalized_re_error(n,pca_data,dimension,num_data):# n = number of principal component, x_data = pca_data,\n",
        "                                            # dimension = fast text transformesd dimension\n",
        "  total_cost, hindu_cost, muslim_cost = 0,0,0\n",
        "\n",
        "  pca_data = preprocessing.StandardScaler().fit_transform(pca_data)\n",
        "\n",
        "  #pca calculation\n",
        "  cov_mat = np.cov(np.transpose(pca_data))\n",
        "  eig_vals, eig_vecs = np.linalg.eig(cov_mat)\n",
        "  idx = eig_vals.argsort()[::-1]\n",
        "  eig_vals = eig_vals[idx]\n",
        "  eig_vecs = eig_vecs[:,idx]\n",
        "\n",
        "  # reconstruction error calculation\n",
        "  # x = cost, z = accumulative cost wrt dimension\n",
        "  x=0\n",
        "  for i in range(num_data):\n",
        "    x = 0\n",
        "    z = np.zeros((1,dimension))\n",
        "    for j in range(n):\n",
        "      z += (((np.dot(np.transpose(pca_data[i]),eig_vecs[j]))) * eig_vecs[j])\n",
        "\n",
        "    temp1 = (np.linalg.norm (pca_data[i]))\n",
        "    temp2 = (np.linalg.norm (z))\n",
        "    x =  (temp2)/(temp1)\n",
        "\n",
        "\n",
        "    total_cost += x\n",
        "    if gt_reli[i]==1:\n",
        "      muslim_cost += x\n",
        "    else :\n",
        "      hindu_cost += x\n",
        "  # print(total_cost)\n",
        "\n",
        "  total_cost /= num_data\n",
        "  hindu_cost /= (num_data/2)\n",
        "  muslim_cost /= (num_data/2)\n",
        "\n",
        "  return total_cost, hindu_cost, muslim_cost"
      ]
    },
    {
      "cell_type": "code",
      "execution_count": null,
      "metadata": {
        "id": "779m1nuGCpP8"
      },
      "outputs": [],
      "source": [
        "pca_data = w2v_min_transform(gt_data,fasttext_transform,2020,50)\n"
      ]
    },
    {
      "cell_type": "code",
      "execution_count": null,
      "metadata": {
        "id": "0IK4fCY7KYbo"
      },
      "outputs": [],
      "source": [
        "x1 = []\n",
        "for i in range(1,10):\n",
        "  x1.append(i)"
      ]
    },
    {
      "cell_type": "code",
      "execution_count": null,
      "metadata": {
        "colab": {
          "base_uri": "https://localhost:8080/"
        },
        "id": "GA2Z1lM-C1Dw",
        "outputId": "35af2511-34ed-4fe6-bfbe-384bac83cfef"
      },
      "outputs": [
        {
          "name": "stdout",
          "output_type": "stream",
          "text": [
            "[0.8953898455630305, 0.8334131943515725, 0.7832237094667861, 0.7390339290270806, 0.6998875515701403, 0.6674529788843971, 0.6359168002584916, 0.608467781926642, 0.5846224679638904]\n",
            "[0.894783828461937, 0.8297965484699014, 0.7815903361410077, 0.738383926913425, 0.6975449203616305, 0.6653549592042293, 0.6339267989906937, 0.6081922161574598, 0.585051011956961]\n",
            "[0.8941778113608414, 0.8261799025882298, 0.7799569628152268, 0.7377339247997664, 0.6952022891531184, 0.6632569395240603, 0.6319367977228935, 0.6079166503882771, 0.5854795559500301]\n"
          ]
        }
      ],
      "source": [
        "reconstruction_error_total, reconstruction_error_hindu, reconstruction_error_muslim = [], [], []\n",
        "\n",
        "for i in range(1,10):\n",
        "  re_t,re_h,re_m = normalized_re_error(i,pca_data,50,2020)\n",
        "  reconstruction_error_total.append(re_t)\n",
        "  reconstruction_error_hindu.append(re_h)\n",
        "  reconstruction_error_muslim.append(re_m)\n",
        "  # print()\n",
        "\n",
        "print(reconstruction_error_muslim)\n",
        "print(reconstruction_error_total)\n",
        "print(reconstruction_error_hindu)"
      ]
    },
    {
      "cell_type": "code",
      "execution_count": null,
      "metadata": {
        "colab": {
          "base_uri": "https://localhost:8080/",
          "height": 472
        },
        "id": "nxRQ8ZnGC9fM",
        "outputId": "3b6c7391-2ad1-48d9-a810-493c447727d0"
      },
      "outputs": [
        {
          "data": {
            "image/png": "[encoded data removed]",
            "text/plain": [
              "<Figure size 640x480 with 1 Axes>"
            ]
          },
          "metadata": {},
          "output_type": "display_data"
        }
      ],
      "source": [
        "plt.plot(x1, reconstruction_error_total,label ='reconstruction_error_total')\n",
        "plt.plot(x1, reconstruction_error_hindu, '-.',label ='reconstruction_error_hindu')\n",
        "plt.plot(x1,reconstruction_error_muslim,'-*',label ='reconstruction_error_muslim')\n",
        "\n",
        "plt.xlabel(\"number of principal componenet\")\n",
        "plt.ylabel(\"reconstruction error\")\n",
        "plt.legend()\n",
        "plt.title('PCA reconstruction error for 50-dim fastText min vector extrima')\n",
        "plt.savefig(\"PCA reconstruction error for 50-dim fastText min vector extrima.png\")\n",
        "plt.show()"
      ]
    },
    {
      "cell_type": "markdown",
      "metadata": {
        "id": "lEmNVxzULpWg"
      },
      "source": [
        "#clustring for fastText min-vectorExtrima dim = 50, C = {2,9}"
      ]
    },
    {
      "cell_type": "code",
      "execution_count": null,
      "metadata": {
        "id": "X-eNRhCGLn8L"
      },
      "outputs": [],
      "source": [
        "def w2v_min_transform_words(gt_data,fasttext_transform,num_data_points,dimension):# gt_data = ground truth data,\n",
        "                                                                            #fastText_transform = model.word2vec,\n",
        "                                                                            #dimension = dim of w2vec\n",
        "                                                                            #num_data_points = 2020 for our case\n",
        "\n",
        "  data_xx, words = [],[]\n",
        "  for i in range(num_data_points):\n",
        "    temp = []\n",
        "    for j in gt_data[i]:\n",
        "      temp.append(fasttext_transform[j])\n",
        "    a = np.zeros((1,dimension))\n",
        "    for k in range(dimension):    #setting a bigger value to get min val in latter stage\n",
        "      a[0][k] = 1e9\n",
        "    dic = {}\n",
        "    for k in range(dimension):\n",
        "      w_idx = 0\n",
        "      for k1 in range(len(temp)):\n",
        "        c = 1.0 * (temp[k1][k])\n",
        "        if(abs(a[0][k])) > abs(c):\n",
        "          a[0][k] = c\n",
        "          w_idx = k1\n",
        "      if gt_data[i][w_idx] in dic :\n",
        "        dic[gt_data[i][w_idx]] += 1\n",
        "      else :\n",
        "        dic[gt_data[i][w_idx]] = 1\n",
        "    data_xx.append(a)\n",
        "    sorted(dic.items(), key=lambda _: _[1], reverse=True)\n",
        "    cnt = 0\n",
        "    temp1 = []\n",
        "    for key in dic:\n",
        "      temp1.append(key)\n",
        "      cnt +=1\n",
        "      if cnt > 10:\n",
        "        break;\n",
        "    words.append(temp1)\n",
        "  pca_vec = np.zeros((num_data_points,dimension))\n",
        "  for i in range(num_data_points):\n",
        "    for j in range(dimension):\n",
        "      pca_vec[i][j] = data_xx[i][0][j]\n",
        "  return pca_vec,words"
      ]
    },
    {
      "cell_type": "code",
      "execution_count": null,
      "metadata": {
        "id": "5qyFSOeOPn-R"
      },
      "outputs": [],
      "source": [
        "data50_vec, words = w2v_min_transform_words(gt_data,fasttext_transform,2020,50)"
      ]
    },
    {
      "cell_type": "code",
      "execution_count": null,
      "metadata": {
        "colab": {
          "base_uri": "https://localhost:8080/"
        },
        "id": "f5fnPbqcR_gU",
        "outputId": "fcaf2348-aae5-4682-ed4a-52cc4d9eab60"
      },
      "outputs": [
        {
          "name": "stderr",
          "output_type": "stream",
          "text": [
            "/usr/local/lib/python3.10/dist-packages/sklearn/cluster/_kmeans.py:870: FutureWarning: The default value of `n_init` will change from 10 to 'auto' in 1.4. Set the value of `n_init` explicitly to suppress the warning\n",
            "  warnings.warn(\n"
          ]
        }
      ],
      "source": [
        "from sklearn.cluster import KMeans\n",
        "cluster_model = KMeans(n_clusters=2)\n",
        "clusters = cluster_model.fit_predict(data50_vec)"
      ]
    },
    {
      "cell_type": "code",
      "execution_count": null,
      "metadata": {
        "id": "iTe_dirHSYDx"
      },
      "outputs": [],
      "source": [
        "# for each cluster [muslim, hindu]\n",
        "fairlet_cluster_stat = [ [0,0] for _ in range(2)]"
      ]
    },
    {
      "cell_type": "code",
      "execution_count": null,
      "metadata": {
        "id": "OIU3jW1CSZ0Q"
      },
      "outputs": [],
      "source": [
        "for i in range(2020):\n",
        "  if gt_reli[i] == 1:\n",
        "    fairlet_cluster_stat[clusters[i]][0] += 1\n",
        "  elif gt_reli[i] == 2:\n",
        "    fairlet_cluster_stat[clusters[i]][1] += 1"
      ]
    },
    {
      "cell_type": "code",
      "execution_count": null,
      "metadata": {
        "colab": {
          "base_uri": "https://localhost:8080/"
        },
        "id": "4kcZCEKoSeNH",
        "outputId": "5fdf7772-c5e5-4044-f06e-442282263db4"
      },
      "outputs": [
        {
          "data": {
            "text/plain": [
              "[[1010, 1009], [0, 1]]"
            ]
          },
          "execution_count": 16,
          "metadata": {},
          "output_type": "execute_result"
        }
      ],
      "source": [
        "fairlet_cluster_stat"
      ]
    },
    {
      "cell_type": "code",
      "execution_count": null,
      "metadata": {
        "id": "46185n0U3tOZ"
      },
      "outputs": [],
      "source": [
        "anamoly = 0\n",
        "cnt = 0\n",
        "for i in range(2020):\n",
        "  if clusters[i]==1:\n",
        "    cnt +=1\n",
        "    anamoly = i"
      ]
    },
    {
      "cell_type": "code",
      "execution_count": null,
      "metadata": {
        "colab": {
          "base_uri": "https://localhost:8080/"
        },
        "id": "KdAJfSs44RFY",
        "outputId": "2283ee33-6d93-4718-af4f-f151c17d33b7"
      },
      "outputs": [
        {
          "name": "stdout",
          "output_type": "stream",
          "text": [
            "1 1664\n"
          ]
        }
      ],
      "source": [
        "print(cnt,anamoly)"
      ]
    },
    {
      "cell_type": "code",
      "execution_count": null,
      "metadata": {
        "colab": {
          "base_uri": "https://localhost:8080/"
        },
        "id": "sv0JZBKP4U5N",
        "outputId": "ef3006ae-88b0-4ebd-aa57-e3b46ebe4256"
      },
      "outputs": [
        {
          "data": {
            "text/plain": [
              "['समर्थन', 'पैरोकारसगा', 'इापथपत्र', 'जोअभियुक्त', 'विमलेश']"
            ]
          },
          "execution_count": 20,
          "metadata": {},
          "output_type": "execute_result"
        }
      ],
      "source": [
        "words[1664]"
      ]
    },
    {
      "cell_type": "code",
      "execution_count": null,
      "metadata": {
        "colab": {
          "base_uri": "https://localhost:8080/"
        },
        "id": "-ulbaKG74ZDc",
        "outputId": "247ab6a4-7afe-4e91-aa6f-9ece6bcaf545"
      },
      "outputs": [
        {
          "data": {
            "text/plain": [
              "['पर्यापतसाक्ष्य',\n",
              " '१७',\n",
              " 'अभ्यस्थ',\n",
              " 'अहमद',\n",
              " 'ख',\n",
              " 'कराया',\n",
              " 'समाज',\n",
              " 'सदस्यों',\n",
              " 'उ०प्र०गिरोहबंद',\n",
              " 'जिसकी',\n",
              " 'विवेचनाउ०नि०']"
            ]
          },
          "execution_count": 21,
          "metadata": {},
          "output_type": "execute_result"
        }
      ],
      "source": [
        "words[166]"
      ]
    },
    {
      "cell_type": "code",
      "execution_count": null,
      "metadata": {
        "colab": {
          "base_uri": "https://localhost:8080/"
        },
        "id": "EI827wkf4ct7",
        "outputId": "7b2de3d7-cdf0-43e4-a293-aefbb541b0c8"
      },
      "outputs": [
        {
          "data": {
            "text/plain": [
              "['392,411',\n",
              " 'अग्रेत्तर',\n",
              " '11082020',\n",
              " 'संदिग्ध',\n",
              " 'पूर्व',\n",
              " 'माध्यम',\n",
              " 'मारकरगिरा',\n",
              " 'सोमेश',\n",
              " 'सासनी',\n",
              " 'कथन',\n",
              " 'उफ']"
            ]
          },
          "execution_count": 22,
          "metadata": {},
          "output_type": "execute_result"
        }
      ],
      "source": [
        "words[90]"
      ]
    },
    {
      "cell_type": "code",
      "execution_count": null,
      "metadata": {
        "colab": {
          "base_uri": "https://localhost:8080/"
        },
        "id": "mspoztFr5bQz",
        "outputId": "0fda848b-2ad4-4280-f36d-ecfbdd934b1a"
      },
      "outputs": [
        {
          "name": "stderr",
          "output_type": "stream",
          "text": [
            "/usr/local/lib/python3.10/dist-packages/sklearn/cluster/_kmeans.py:870: FutureWarning: The default value of `n_init` will change from 10 to 'auto' in 1.4. Set the value of `n_init` explicitly to suppress the warning\n",
            "  warnings.warn(\n"
          ]
        },
        {
          "name": "stdout",
          "output_type": "stream",
          "text": [
            "[[455, 566], [555, 443], [0, 1]]\n"
          ]
        }
      ],
      "source": [
        "cluster_model = KMeans(n_clusters=3)\n",
        "clusters = cluster_model.fit_predict(data50_vec)\n",
        "# for each cluster [muslim, hindu]\n",
        "fairlet_cluster_stat = [ [0,0] for _ in range(3)]\n",
        "for i in range(2020):\n",
        "  if gt_reli[i] == 1:\n",
        "    fairlet_cluster_stat[clusters[i]][0] += 1\n",
        "  elif gt_reli[i] == 2:\n",
        "    fairlet_cluster_stat[clusters[i]][1] += 1\n",
        "\n",
        "print(fairlet_cluster_stat)"
      ]
    },
    {
      "cell_type": "code",
      "execution_count": null,
      "metadata": {
        "colab": {
          "base_uri": "https://localhost:8080/"
        },
        "id": "O2jmdaMn53QI",
        "outputId": "6c4e03bb-622c-4cd8-c5c1-008993eee1d6"
      },
      "outputs": [
        {
          "name": "stdout",
          "output_type": "stream",
          "text": [
            "1664\n"
          ]
        }
      ],
      "source": [
        "anamoly = 0\n",
        "cnt = 0\n",
        "for i in range(2020):\n",
        "  if clusters[i]==2:\n",
        "    cnt +=1\n",
        "    anamoly = i\n",
        "\n",
        "print(anamoly)"
      ]
    },
    {
      "cell_type": "code",
      "execution_count": null,
      "metadata": {
        "colab": {
          "base_uri": "https://localhost:8080/"
        },
        "id": "YbokoxFa5wYG",
        "outputId": "164dfc25-5ed1-4135-8a9f-0801ffbc657d"
      },
      "outputs": [
        {
          "name": "stderr",
          "output_type": "stream",
          "text": [
            "/usr/local/lib/python3.10/dist-packages/sklearn/cluster/_kmeans.py:870: FutureWarning: The default value of `n_init` will change from 10 to 'auto' in 1.4. Set the value of `n_init` explicitly to suppress the warning\n",
            "  warnings.warn(\n"
          ]
        },
        {
          "name": "stdout",
          "output_type": "stream",
          "text": [
            "[[421, 543], [1, 0], [0, 1], [588, 466]]\n"
          ]
        }
      ],
      "source": [
        "cluster_model = KMeans(n_clusters=4)\n",
        "clusters = cluster_model.fit_predict(data50_vec)\n",
        "# for each cluster [muslim, hindu]\n",
        "fairlet_cluster_stat = [ [0,0] for _ in range(4)]\n",
        "for i in range(2020):\n",
        "  if gt_reli[i] == 1:\n",
        "    fairlet_cluster_stat[clusters[i]][0] += 1\n",
        "  elif gt_reli[i] == 2:\n",
        "    fairlet_cluster_stat[clusters[i]][1] += 1\n",
        "\n",
        "print(fairlet_cluster_stat)"
      ]
    },
    {
      "cell_type": "code",
      "execution_count": null,
      "metadata": {
        "colab": {
          "base_uri": "https://localhost:8080/"
        },
        "id": "GQq4nBAe6DGd",
        "outputId": "00df5dc6-5356-4353-b41f-ab78890f99f8"
      },
      "outputs": [
        {
          "name": "stdout",
          "output_type": "stream",
          "text": [
            "1 1545\n",
            "2 1664\n"
          ]
        }
      ],
      "source": [
        "for i in range(2020):\n",
        "  if clusters[i]==1:\n",
        "    print(1,i)\n",
        "  if clusters[i]==2:\n",
        "    print(2,i)"
      ]
    },
    {
      "cell_type": "code",
      "execution_count": null,
      "metadata": {
        "colab": {
          "base_uri": "https://localhost:8080/"
        },
        "id": "n3itecV56Ri0",
        "outputId": "13b06a06-e60a-4c84-e3b2-653dd869fea7"
      },
      "outputs": [
        {
          "name": "stdout",
          "output_type": "stream",
          "text": [
            "['बावत', 'नदीम', 'पक्ष', 'पेश', 'उपस्थित', '08', 'विद्वान्\\\\u200cअधिवक्ता', 'तरफ', 'उभय', 'श्रीअजय', '2019जमानत']\n"
          ]
        }
      ],
      "source": [
        "print(words[1545])"
      ]
    },
    {
      "cell_type": "code",
      "execution_count": null,
      "metadata": {
        "colab": {
          "base_uri": "https://localhost:8080/"
        },
        "id": "GjxZDGmK6Zr7",
        "outputId": "1d0042bc-b550-405d-ce38-b43838704029"
      },
      "outputs": [
        {
          "name": "stderr",
          "output_type": "stream",
          "text": [
            "/usr/local/lib/python3.10/dist-packages/sklearn/cluster/_kmeans.py:870: FutureWarning: The default value of `n_init` will change from 10 to 'auto' in 1.4. Set the value of `n_init` explicitly to suppress the warning\n",
            "  warnings.warn(\n"
          ]
        },
        {
          "name": "stdout",
          "output_type": "stream",
          "text": [
            "[[441, 380], [0, 1], [402, 433], [166, 196], [1, 0]]\n"
          ]
        }
      ],
      "source": [
        "cluster_model = KMeans(n_clusters=5)\n",
        "clusters = cluster_model.fit_predict(data50_vec)\n",
        "# for each cluster [muslim, hindu]\n",
        "fairlet_cluster_stat = [ [0,0] for _ in range(5)]\n",
        "for i in range(2020):\n",
        "  if gt_reli[i] == 1:\n",
        "    fairlet_cluster_stat[clusters[i]][0] += 1\n",
        "  elif gt_reli[i] == 2:\n",
        "    fairlet_cluster_stat[clusters[i]][1] += 1\n",
        "\n",
        "print(fairlet_cluster_stat)"
      ]
    },
    {
      "cell_type": "code",
      "execution_count": null,
      "metadata": {
        "colab": {
          "base_uri": "https://localhost:8080/"
        },
        "id": "ZWoRj1we6daZ",
        "outputId": "9d21ca80-0d1e-4b78-afe3-5fb3ef044e8d"
      },
      "outputs": [
        {
          "name": "stdout",
          "output_type": "stream",
          "text": [
            "4 1232\n",
            "1 1664\n"
          ]
        }
      ],
      "source": [
        "for i in range(2020):\n",
        "  if clusters[i]==1:\n",
        "    print(1,i)\n",
        "  if clusters[i]==4:\n",
        "    print(4,i)"
      ]
    },
    {
      "cell_type": "code",
      "execution_count": null,
      "metadata": {
        "colab": {
          "base_uri": "https://localhost:8080/"
        },
        "id": "4VovKRm46knZ",
        "outputId": "67a6a344-fbcc-45a8-e1b9-0ac694367ce8"
      },
      "outputs": [
        {
          "name": "stdout",
          "output_type": "stream",
          "text": [
            "['समर्थन', 'अहमद', 'दिये', 'दाखिल', 'उपरोक्त', 'निरूद्धहै', 'तरफ', 'परवेज', 'सही', 'शपथ', 'दाखिलकरते']\n"
          ]
        }
      ],
      "source": [
        "print(words[1232])"
      ]
    },
    {
      "cell_type": "code",
      "execution_count": null,
      "metadata": {
        "colab": {
          "base_uri": "https://localhost:8080/"
        },
        "id": "adNa4r1q6rUx",
        "outputId": "3f95e834-7716-47df-cf57-9afe48b15cad"
      },
      "outputs": [
        {
          "name": "stderr",
          "output_type": "stream",
          "text": [
            "/usr/local/lib/python3.10/dist-packages/sklearn/cluster/_kmeans.py:870: FutureWarning: The default value of `n_init` will change from 10 to 'auto' in 1.4. Set the value of `n_init` explicitly to suppress the warning\n",
            "  warnings.warn(\n"
          ]
        },
        {
          "name": "stdout",
          "output_type": "stream",
          "text": [
            "[[583, 538], [191, 201], [0, 1], [234, 270], [1, 0], [1, 0]]\n"
          ]
        }
      ],
      "source": [
        "cluster_model = KMeans(n_clusters=6)\n",
        "clusters = cluster_model.fit_predict(data50_vec)\n",
        "# for each cluster [muslim, hindu]\n",
        "fairlet_cluster_stat = [ [0,0] for _ in range(6)]\n",
        "for i in range(2020):\n",
        "  if gt_reli[i] == 1:\n",
        "    fairlet_cluster_stat[clusters[i]][0] += 1\n",
        "  elif gt_reli[i] == 2:\n",
        "    fairlet_cluster_stat[clusters[i]][1] += 1\n",
        "\n",
        "print(fairlet_cluster_stat)"
      ]
    },
    {
      "cell_type": "code",
      "execution_count": null,
      "metadata": {
        "colab": {
          "base_uri": "https://localhost:8080/"
        },
        "id": "foSUt1T96vmd",
        "outputId": "5e69cd74-1b23-4b16-ef7f-ed1ff0d0b1d2"
      },
      "outputs": [
        {
          "name": "stdout",
          "output_type": "stream",
          "text": [
            "4 1232\n",
            "5 1545\n",
            "2 1664\n"
          ]
        }
      ],
      "source": [
        "for i in range(2020):\n",
        "  if clusters[i]==2:\n",
        "    print(2,i)\n",
        "  if clusters[i]==4:\n",
        "    print(4,i)\n",
        "  if clusters[i]==5:\n",
        "    print(5,i)"
      ]
    },
    {
      "cell_type": "code",
      "execution_count": null,
      "metadata": {
        "colab": {
          "base_uri": "https://localhost:8080/"
        },
        "id": "iGUN5omN6-8l",
        "outputId": "4d03d7fc-6bcd-4d1f-cf68-4fcc2b9886d3"
      },
      "outputs": [
        {
          "name": "stderr",
          "output_type": "stream",
          "text": [
            "/usr/local/lib/python3.10/dist-packages/sklearn/cluster/_kmeans.py:870: FutureWarning: The default value of `n_init` will change from 10 to 'auto' in 1.4. Set the value of `n_init` explicitly to suppress the warning\n",
            "  warnings.warn(\n"
          ]
        },
        {
          "name": "stdout",
          "output_type": "stream",
          "text": [
            "[[145, 232], [1, 0], [33, 68], [0, 1], [179, 225], [651, 484], [1, 0]]\n"
          ]
        }
      ],
      "source": [
        "cluster_model = KMeans(n_clusters=7)\n",
        "clusters = cluster_model.fit_predict(data50_vec)\n",
        "# for each cluster [muslim, hindu]\n",
        "fairlet_cluster_stat = [ [0,0] for _ in range(7)]\n",
        "for i in range(2020):\n",
        "  if gt_reli[i] == 1:\n",
        "    fairlet_cluster_stat[clusters[i]][0] += 1\n",
        "  elif gt_reli[i] == 2:\n",
        "    fairlet_cluster_stat[clusters[i]][1] += 1\n",
        "\n",
        "print(fairlet_cluster_stat)"
      ]
    },
    {
      "cell_type": "code",
      "execution_count": null,
      "metadata": {
        "colab": {
          "base_uri": "https://localhost:8080/"
        },
        "id": "FAvuVHUQ7NOM",
        "outputId": "d844798b-8ed0-4e4d-eaa9-c1c18d236a17"
      },
      "outputs": [
        {
          "name": "stdout",
          "output_type": "stream",
          "text": [
            "6 1232\n",
            "1 1545\n",
            "3 1664\n"
          ]
        }
      ],
      "source": [
        "for i in range(2020):\n",
        "  if clusters[i]==1:\n",
        "    print(1,i)\n",
        "  if clusters[i]==3:\n",
        "    print(3,i)\n",
        "  if clusters[i]==6:\n",
        "    print(6,i)"
      ]
    },
    {
      "cell_type": "code",
      "execution_count": null,
      "metadata": {
        "colab": {
          "base_uri": "https://localhost:8080/"
        },
        "id": "IY9KjLle7YJc",
        "outputId": "cb856710-d06f-47a9-92bb-3c6d80cc435a"
      },
      "outputs": [
        {
          "name": "stderr",
          "output_type": "stream",
          "text": [
            "/usr/local/lib/python3.10/dist-packages/sklearn/cluster/_kmeans.py:870: FutureWarning: The default value of `n_init` will change from 10 to 'auto' in 1.4. Set the value of `n_init` explicitly to suppress the warning\n",
            "  warnings.warn(\n"
          ]
        },
        {
          "name": "stdout",
          "output_type": "stream",
          "text": [
            "[[32, 67], [559, 394], [170, 214], [0, 10], [247, 324], [1, 0], [1, 0], [0, 1]]\n"
          ]
        }
      ],
      "source": [
        "cluster_model = KMeans(n_clusters=8)\n",
        "clusters = cluster_model.fit_predict(data50_vec)\n",
        "# for each cluster [muslim, hindu]\n",
        "fairlet_cluster_stat = [ [0,0] for _ in range(8)]\n",
        "for i in range(2020):\n",
        "  if gt_reli[i] == 1:\n",
        "    fairlet_cluster_stat[clusters[i]][0] += 1\n",
        "  elif gt_reli[i] == 2:\n",
        "    fairlet_cluster_stat[clusters[i]][1] += 1\n",
        "\n",
        "print(fairlet_cluster_stat)"
      ]
    },
    {
      "cell_type": "code",
      "execution_count": null,
      "metadata": {
        "colab": {
          "base_uri": "https://localhost:8080/"
        },
        "id": "nUALVE_w7gTe",
        "outputId": "8f49e2c4-6a0a-4cc2-e26f-e16ba000c8d3"
      },
      "outputs": [
        {
          "name": "stderr",
          "output_type": "stream",
          "text": [
            "/usr/local/lib/python3.10/dist-packages/sklearn/cluster/_kmeans.py:870: FutureWarning: The default value of `n_init` will change from 10 to 'auto' in 1.4. Set the value of `n_init` explicitly to suppress the warning\n",
            "  warnings.warn(\n"
          ]
        },
        {
          "name": "stdout",
          "output_type": "stream",
          "text": [
            "[[390, 388], [0, 1], [182, 193], [312, 301], [0, 10], [113, 113], [11, 4], [1, 0], [1, 0]]\n"
          ]
        }
      ],
      "source": [
        "cluster_model = KMeans(n_clusters=9)\n",
        "clusters = cluster_model.fit_predict(data50_vec)\n",
        "# for each cluster [muslim, hindu]\n",
        "fairlet_cluster_stat = [ [0,0] for _ in range(9)]\n",
        "for i in range(2020):\n",
        "  if gt_reli[i] == 1:\n",
        "    fairlet_cluster_stat[clusters[i]][0] += 1\n",
        "  elif gt_reli[i] == 2:\n",
        "    fairlet_cluster_stat[clusters[i]][1] += 1\n",
        "\n",
        "print(fairlet_cluster_stat)"
      ]
    },
    {
      "cell_type": "markdown",
      "metadata": {
        "id": "Y44TYxVP5RyV"
      },
      "source": [
        "#clustring for fastText min-vectorExtrima dim = 100, c = {2,9}"
      ]
    },
    {
      "cell_type": "code",
      "execution_count": null,
      "metadata": {
        "id": "JtXCgo8A5TuY"
      },
      "outputs": [],
      "source": [
        "model100 = FastText.load('/content/drive/MyDrive/Fairness in machine learning/word embedding Models /Hindi/100/fasttext/hi-d100-m2-fasttext.model')\n",
        "fasttext_transform100 = model100.wv"
      ]
    },
    {
      "cell_type": "code",
      "source": [
        "from sklearn.cluster import KMeans"
      ],
      "metadata": {
        "id": "PfkO8crw9bRb"
      },
      "execution_count": null,
      "outputs": []
    },
    {
      "cell_type": "code",
      "source": [
        "data100_vec, words = w2v_min_transform_words(gt_data,fasttext_transform100,2020,100)"
      ],
      "metadata": {
        "id": "Lw-Nxl5n97DC"
      },
      "execution_count": null,
      "outputs": []
    },
    {
      "cell_type": "code",
      "source": [
        "cluster_model = KMeans(n_clusters=2)\n",
        "clusters = cluster_model.fit_predict(data100_vec)\n",
        "# for each cluster [muslim, hindu]\n",
        "fairlet_cluster_stat = [ [0,0] for _ in range(2)]\n",
        "for i in range(2020):\n",
        "  if gt_reli[i] == 1:\n",
        "    fairlet_cluster_stat[clusters[i]][0] += 1\n",
        "  elif gt_reli[i] == 2:\n",
        "    fairlet_cluster_stat[clusters[i]][1] += 1\n",
        "\n",
        "print(fairlet_cluster_stat)"
      ],
      "metadata": {
        "id": "Duyp2WKC-nGH",
        "outputId": "9a6153d0-ff7e-4186-b387-cf2a7a1163db",
        "colab": {
          "base_uri": "https://localhost:8080/"
        }
      },
      "execution_count": 18,
      "outputs": [
        {
          "output_type": "stream",
          "name": "stderr",
          "text": [
            "/usr/local/lib/python3.10/dist-packages/sklearn/cluster/_kmeans.py:870: FutureWarning: The default value of `n_init` will change from 10 to 'auto' in 1.4. Set the value of `n_init` explicitly to suppress the warning\n",
            "  warnings.warn(\n"
          ]
        },
        {
          "output_type": "stream",
          "name": "stdout",
          "text": [
            "[[448, 446], [562, 564]]\n"
          ]
        }
      ]
    },
    {
      "cell_type": "code",
      "source": [
        "cluster_model = KMeans(n_clusters=2)\n",
        "clusters = cluster_model.fit_predict(data100_vec)\n",
        "# for each cluster [muslim, hindu]\n",
        "fairlet_cluster_stat = [ [0,0] for _ in range(2)]\n",
        "for i in range(2020):\n",
        "  if gt_reli[i] == 1:\n",
        "    fairlet_cluster_stat[clusters[i]][0] += 1\n",
        "  elif gt_reli[i] == 2:\n",
        "    fairlet_cluster_stat[clusters[i]][1] += 1\n",
        "\n",
        "print(fairlet_cluster_stat)"
      ],
      "metadata": {
        "colab": {
          "base_uri": "https://localhost:8080/"
        },
        "id": "HldO12Qm_Fd7",
        "outputId": "84bee46c-d8b9-40b8-d6e7-777e5f70a4d4"
      },
      "execution_count": 19,
      "outputs": [
        {
          "output_type": "stream",
          "name": "stderr",
          "text": [
            "/usr/local/lib/python3.10/dist-packages/sklearn/cluster/_kmeans.py:870: FutureWarning: The default value of `n_init` will change from 10 to 'auto' in 1.4. Set the value of `n_init` explicitly to suppress the warning\n",
            "  warnings.warn(\n"
          ]
        },
        {
          "output_type": "stream",
          "name": "stdout",
          "text": [
            "[[562, 564], [448, 446]]\n"
          ]
        }
      ]
    },
    {
      "cell_type": "code",
      "source": [
        "cluster_model = KMeans(n_clusters=2)\n",
        "clusters = cluster_model.fit_predict(data100_vec)\n",
        "# for each cluster [muslim, hindu]\n",
        "fairlet_cluster_stat = [ [0,0] for _ in range(2)]\n",
        "for i in range(2020):\n",
        "  if gt_reli[i] == 1:\n",
        "    fairlet_cluster_stat[clusters[i]][0] += 1\n",
        "  elif gt_reli[i] == 2:\n",
        "    fairlet_cluster_stat[clusters[i]][1] += 1\n",
        "\n",
        "print(fairlet_cluster_stat)"
      ],
      "metadata": {
        "colab": {
          "base_uri": "https://localhost:8080/"
        },
        "id": "462dq3JE_Ir5",
        "outputId": "59fa8992-5b5e-48ad-93aa-05176b073e1f"
      },
      "execution_count": 23,
      "outputs": [
        {
          "output_type": "stream",
          "name": "stderr",
          "text": [
            "/usr/local/lib/python3.10/dist-packages/sklearn/cluster/_kmeans.py:870: FutureWarning: The default value of `n_init` will change from 10 to 'auto' in 1.4. Set the value of `n_init` explicitly to suppress the warning\n",
            "  warnings.warn(\n"
          ]
        },
        {
          "output_type": "stream",
          "name": "stdout",
          "text": [
            "[[0, 1], [1010, 1009]]\n"
          ]
        }
      ]
    },
    {
      "cell_type": "code",
      "source": [
        "for i in range(2020):\n",
        "  if clusters[i]==0:\n",
        "    print(0,i)"
      ],
      "metadata": {
        "colab": {
          "base_uri": "https://localhost:8080/"
        },
        "id": "kaOVT04L_f2i",
        "outputId": "0f020085-cad0-48f6-8124-035c33e343c0"
      },
      "execution_count": 24,
      "outputs": [
        {
          "output_type": "stream",
          "name": "stdout",
          "text": [
            "0 1664\n"
          ]
        }
      ]
    },
    {
      "cell_type": "code",
      "source": [
        "cluster_model = KMeans(n_clusters=3)\n",
        "clusters = cluster_model.fit_predict(data100_vec)\n",
        "# for each cluster [muslim, hindu]\n",
        "fairlet_cluster_stat = [ [0,0] for _ in range(3)]\n",
        "for i in range(2020):\n",
        "  if gt_reli[i] == 1:\n",
        "    fairlet_cluster_stat[clusters[i]][0] += 1\n",
        "  elif gt_reli[i] == 2:\n",
        "    fairlet_cluster_stat[clusters[i]][1] += 1\n",
        "\n",
        "print(fairlet_cluster_stat)"
      ],
      "metadata": {
        "colab": {
          "base_uri": "https://localhost:8080/"
        },
        "id": "GVCS8i61_O97",
        "outputId": "f2531865-03b0-42b2-a31c-c0043ffcc0b1"
      },
      "execution_count": 25,
      "outputs": [
        {
          "output_type": "stream",
          "name": "stderr",
          "text": [
            "/usr/local/lib/python3.10/dist-packages/sklearn/cluster/_kmeans.py:870: FutureWarning: The default value of `n_init` will change from 10 to 'auto' in 1.4. Set the value of `n_init` explicitly to suppress the warning\n",
            "  warnings.warn(\n"
          ]
        },
        {
          "output_type": "stream",
          "name": "stdout",
          "text": [
            "[[561, 559], [449, 450], [0, 1]]\n"
          ]
        }
      ]
    },
    {
      "cell_type": "code",
      "source": [
        "for i in range(2020):\n",
        "  if clusters[i]==2:\n",
        "    print(2,i)"
      ],
      "metadata": {
        "colab": {
          "base_uri": "https://localhost:8080/"
        },
        "id": "XnI-auxR_pc8",
        "outputId": "47754d3e-f201-4be1-bbf2-eaedfa738a1e"
      },
      "execution_count": 26,
      "outputs": [
        {
          "output_type": "stream",
          "name": "stdout",
          "text": [
            "2 1664\n"
          ]
        }
      ]
    },
    {
      "cell_type": "code",
      "source": [
        "cluster_model = KMeans(n_clusters=4)\n",
        "clusters = cluster_model.fit_predict(data100_vec)\n",
        "# for each cluster [muslim, hindu]\n",
        "fairlet_cluster_stat = [ [0,0] for _ in range(4)]\n",
        "for i in range(2020):\n",
        "  if gt_reli[i] == 1:\n",
        "    fairlet_cluster_stat[clusters[i]][0] += 1\n",
        "  elif gt_reli[i] == 2:\n",
        "    fairlet_cluster_stat[clusters[i]][1] += 1\n",
        "\n",
        "print(fairlet_cluster_stat)"
      ],
      "metadata": {
        "colab": {
          "base_uri": "https://localhost:8080/"
        },
        "id": "yAKWJatF_Wtp",
        "outputId": "70119597-e2a4-4fc2-a418-e789f01e7f4d"
      },
      "execution_count": 29,
      "outputs": [
        {
          "output_type": "stream",
          "name": "stderr",
          "text": [
            "/usr/local/lib/python3.10/dist-packages/sklearn/cluster/_kmeans.py:870: FutureWarning: The default value of `n_init` will change from 10 to 'auto' in 1.4. Set the value of `n_init` explicitly to suppress the warning\n",
            "  warnings.warn(\n"
          ]
        },
        {
          "output_type": "stream",
          "name": "stdout",
          "text": [
            "[[467, 508], [246, 271], [0, 1], [297, 230]]\n"
          ]
        }
      ]
    },
    {
      "cell_type": "code",
      "source": [
        "for i in range(2020):\n",
        "  if clusters[i]==2:\n",
        "    print(2,i)"
      ],
      "metadata": {
        "colab": {
          "base_uri": "https://localhost:8080/"
        },
        "id": "YuJkb9A3_xv6",
        "outputId": "f2ed9abc-2a4d-42f5-83ac-42a9e57068a5"
      },
      "execution_count": 30,
      "outputs": [
        {
          "output_type": "stream",
          "name": "stdout",
          "text": [
            "2 1664\n"
          ]
        }
      ]
    },
    {
      "cell_type": "code",
      "source": [
        "cluster_model = KMeans(n_clusters=5)\n",
        "clusters = cluster_model.fit_predict(data100_vec)\n",
        "# for each cluster [muslim, hindu]\n",
        "fairlet_cluster_stat = [ [0,0] for _ in range(5)]\n",
        "for i in range(2020):\n",
        "  if gt_reli[i] == 1:\n",
        "    fairlet_cluster_stat[clusters[i]][0] += 1\n",
        "  elif gt_reli[i] == 2:\n",
        "    fairlet_cluster_stat[clusters[i]][1] += 1\n",
        "\n",
        "print(fairlet_cluster_stat)"
      ],
      "metadata": {
        "colab": {
          "base_uri": "https://localhost:8080/"
        },
        "id": "XflWxCnW_3pN",
        "outputId": "61ac57cc-a30b-45b8-8cc5-73dd85a95921"
      },
      "execution_count": 32,
      "outputs": [
        {
          "output_type": "stream",
          "name": "stderr",
          "text": [
            "/usr/local/lib/python3.10/dist-packages/sklearn/cluster/_kmeans.py:870: FutureWarning: The default value of `n_init` will change from 10 to 'auto' in 1.4. Set the value of `n_init` explicitly to suppress the warning\n",
            "  warnings.warn(\n"
          ]
        },
        {
          "output_type": "stream",
          "name": "stdout",
          "text": [
            "[[467, 505], [1, 0], [0, 1], [245, 274], [297, 230]]\n"
          ]
        }
      ]
    },
    {
      "cell_type": "code",
      "source": [
        "for i in range(2020):\n",
        "  if clusters[i]==1:\n",
        "    print(1,i)\n",
        "  if clusters[i]==2:\n",
        "    print(2,i)"
      ],
      "metadata": {
        "colab": {
          "base_uri": "https://localhost:8080/"
        },
        "id": "djZCRU2y__Nk",
        "outputId": "52f36e4a-5825-46fc-9a53-e10f9949aec0"
      },
      "execution_count": 33,
      "outputs": [
        {
          "output_type": "stream",
          "name": "stdout",
          "text": [
            "1 1545\n",
            "2 1664\n"
          ]
        }
      ]
    },
    {
      "cell_type": "code",
      "source": [
        "cluster_model = KMeans(n_clusters=6)\n",
        "clusters = cluster_model.fit_predict(data100_vec)\n",
        "# for each cluster [muslim, hindu]\n",
        "fairlet_cluster_stat = [ [0,0] for _ in range(6)]\n",
        "for i in range(2020):\n",
        "  if gt_reli[i] == 1:\n",
        "    fairlet_cluster_stat[clusters[i]][0] += 1\n",
        "  elif gt_reli[i] == 2:\n",
        "    fairlet_cluster_stat[clusters[i]][1] += 1\n",
        "\n",
        "print(fairlet_cluster_stat)"
      ],
      "metadata": {
        "colab": {
          "base_uri": "https://localhost:8080/"
        },
        "id": "JYxcrftPALxz",
        "outputId": "c99c2f49-0bf0-40b9-a4cb-fdfebd38812b"
      },
      "execution_count": 39,
      "outputs": [
        {
          "output_type": "stream",
          "name": "stderr",
          "text": [
            "/usr/local/lib/python3.10/dist-packages/sklearn/cluster/_kmeans.py:870: FutureWarning: The default value of `n_init` will change from 10 to 'auto' in 1.4. Set the value of `n_init` explicitly to suppress the warning\n",
            "  warnings.warn(\n"
          ]
        },
        {
          "output_type": "stream",
          "name": "stdout",
          "text": [
            "[[340, 330], [165, 186], [0, 1], [1, 0], [325, 316], [179, 177]]\n"
          ]
        }
      ]
    },
    {
      "cell_type": "code",
      "source": [
        "for i in range(2020):\n",
        "  if clusters[i]==2:\n",
        "    print(2,i)\n",
        "  if clusters[i]==3:\n",
        "    print(3,i)"
      ],
      "metadata": {
        "colab": {
          "base_uri": "https://localhost:8080/"
        },
        "id": "zIEn9tDhAWCJ",
        "outputId": "8099d614-a88d-4791-e70d-a4907b0fddc2"
      },
      "execution_count": 40,
      "outputs": [
        {
          "output_type": "stream",
          "name": "stdout",
          "text": [
            "3 1545\n",
            "2 1664\n"
          ]
        }
      ]
    },
    {
      "cell_type": "code",
      "source": [
        "cluster_model = KMeans(n_clusters=7)\n",
        "clusters = cluster_model.fit_predict(data100_vec)\n",
        "# for each cluster [muslim, hindu]\n",
        "fairlet_cluster_stat = [ [0,0] for _ in range(7)]\n",
        "for i in range(2020):\n",
        "  if gt_reli[i] == 1:\n",
        "    fairlet_cluster_stat[clusters[i]][0] += 1\n",
        "  elif gt_reli[i] == 2:\n",
        "    fairlet_cluster_stat[clusters[i]][1] += 1\n",
        "\n",
        "print(fairlet_cluster_stat)"
      ],
      "metadata": {
        "colab": {
          "base_uri": "https://localhost:8080/"
        },
        "id": "KPPF6scqAdh6",
        "outputId": "615e38c1-1590-4089-b4f1-425e46bb29d8"
      },
      "execution_count": 43,
      "outputs": [
        {
          "output_type": "stream",
          "name": "stderr",
          "text": [
            "/usr/local/lib/python3.10/dist-packages/sklearn/cluster/_kmeans.py:870: FutureWarning: The default value of `n_init` will change from 10 to 'auto' in 1.4. Set the value of `n_init` explicitly to suppress the warning\n",
            "  warnings.warn(\n"
          ]
        },
        {
          "output_type": "stream",
          "name": "stdout",
          "text": [
            "[[351, 355], [0, 1], [418, 404], [1, 0], [184, 201], [1, 0], [55, 49]]\n"
          ]
        }
      ]
    },
    {
      "cell_type": "code",
      "source": [
        "for i in range(2020):\n",
        "  if clusters[i]==1:\n",
        "    print(1,i)\n",
        "  if clusters[i]==3:\n",
        "    print(3,i)\n",
        "  if clusters[i]==5:\n",
        "    print(5,i)"
      ],
      "metadata": {
        "colab": {
          "base_uri": "https://localhost:8080/"
        },
        "id": "jIi0X7HCAjhb",
        "outputId": "c95933e8-7264-4af8-ce5c-f9a5fedb991d"
      },
      "execution_count": 44,
      "outputs": [
        {
          "output_type": "stream",
          "name": "stdout",
          "text": [
            "5 1232\n",
            "3 1545\n",
            "1 1664\n"
          ]
        }
      ]
    },
    {
      "cell_type": "code",
      "source": [
        "cluster_model = KMeans(n_clusters=8)\n",
        "clusters = cluster_model.fit_predict(data100_vec)\n",
        "# for each cluster [muslim, hindu]\n",
        "fairlet_cluster_stat = [ [0,0] for _ in range(8)]\n",
        "for i in range(2020):\n",
        "  if gt_reli[i] == 1:\n",
        "    fairlet_cluster_stat[clusters[i]][0] += 1\n",
        "  elif gt_reli[i] == 2:\n",
        "    fairlet_cluster_stat[clusters[i]][1] += 1\n",
        "\n",
        "print(fairlet_cluster_stat)"
      ],
      "metadata": {
        "colab": {
          "base_uri": "https://localhost:8080/"
        },
        "id": "XpN9IE84A0-M",
        "outputId": "456558b2-2a70-4049-db83-29c9532604c4"
      },
      "execution_count": 47,
      "outputs": [
        {
          "output_type": "stream",
          "name": "stderr",
          "text": [
            "/usr/local/lib/python3.10/dist-packages/sklearn/cluster/_kmeans.py:870: FutureWarning: The default value of `n_init` will change from 10 to 'auto' in 1.4. Set the value of `n_init` explicitly to suppress the warning\n",
            "  warnings.warn(\n"
          ]
        },
        {
          "output_type": "stream",
          "name": "stdout",
          "text": [
            "[[1, 0], [373, 353], [0, 1], [12, 13], [231, 251], [98, 182], [294, 210], [1, 0]]\n"
          ]
        }
      ]
    },
    {
      "cell_type": "code",
      "source": [
        "for i in range(2020):\n",
        "  if clusters[i]==0:\n",
        "    print(0,i)\n",
        "  if clusters[i]==2:\n",
        "    print(2,i)\n",
        "  if clusters[i]==7:\n",
        "    print(7,i)"
      ],
      "metadata": {
        "colab": {
          "base_uri": "https://localhost:8080/"
        },
        "id": "8-8jLD7AA8Z0",
        "outputId": "6e8bb1f3-a098-4cc7-ebb8-dec3511bb06b"
      },
      "execution_count": 48,
      "outputs": [
        {
          "output_type": "stream",
          "name": "stdout",
          "text": [
            "7 1232\n",
            "0 1545\n",
            "2 1664\n"
          ]
        }
      ]
    },
    {
      "cell_type": "code",
      "source": [
        "cluster_model = KMeans(n_clusters=9)\n",
        "clusters = cluster_model.fit_predict(data100_vec)\n",
        "# for each cluster [muslim, hindu]\n",
        "fairlet_cluster_stat = [ [0,0] for _ in range(9)]\n",
        "for i in range(2020):\n",
        "  if gt_reli[i] == 1:\n",
        "    fairlet_cluster_stat[clusters[i]][0] += 1\n",
        "  elif gt_reli[i] == 2:\n",
        "    fairlet_cluster_stat[clusters[i]][1] += 1\n",
        "\n",
        "print(fairlet_cluster_stat)"
      ],
      "metadata": {
        "colab": {
          "base_uri": "https://localhost:8080/"
        },
        "id": "Y-J6YivKBL0s",
        "outputId": "8194cefc-b706-4947-b23b-2f2294806a57"
      },
      "execution_count": 50,
      "outputs": [
        {
          "output_type": "stream",
          "name": "stderr",
          "text": [
            "/usr/local/lib/python3.10/dist-packages/sklearn/cluster/_kmeans.py:870: FutureWarning: The default value of `n_init` will change from 10 to 'auto' in 1.4. Set the value of `n_init` explicitly to suppress the warning\n",
            "  warnings.warn(\n"
          ]
        },
        {
          "output_type": "stream",
          "name": "stdout",
          "text": [
            "[[34, 34], [441, 487], [0, 1], [217, 253], [1, 0], [1, 0], [0, 1], [296, 222], [20, 12]]\n"
          ]
        }
      ]
    },
    {
      "cell_type": "code",
      "source": [
        "for i in range(2020):\n",
        "  if clusters[i]==4:\n",
        "    print(4,i)\n",
        "  if clusters[i]==2:\n",
        "    print(2,i)\n",
        "  if clusters[i]==5:\n",
        "    print(5,i)"
      ],
      "metadata": {
        "colab": {
          "base_uri": "https://localhost:8080/"
        },
        "id": "_MsomIZYBXBY",
        "outputId": "1aefda89-1e1b-41e2-df65-86a61597b20d"
      },
      "execution_count": 51,
      "outputs": [
        {
          "output_type": "stream",
          "name": "stdout",
          "text": [
            "5 1232\n",
            "4 1545\n",
            "2 1664\n"
          ]
        }
      ]
    },
    {
      "cell_type": "code",
      "source": [
        "print(words[1232])"
      ],
      "metadata": {
        "colab": {
          "base_uri": "https://localhost:8080/"
        },
        "id": "XjXJ-p5yBdrD",
        "outputId": "34121e6b-7fc9-4ecf-a35a-ae6ed2eec506"
      },
      "execution_count": 52,
      "outputs": [
        {
          "output_type": "stream",
          "name": "stdout",
          "text": [
            "['निरूद्धहै', 'तरफ', 'समर्थन', 'शपथ', 'अहमद', 'दिये', 'प्रकरण', 'जेल', 'कथनों', 'परवेज', 'दाखिलकरते']\n"
          ]
        }
      ]
    },
    {
      "cell_type": "code",
      "source": [
        "print(gt_data[1232])"
      ],
      "metadata": {
        "colab": {
          "base_uri": "https://localhost:8080/"
        },
        "id": "L8KC3OydMzib",
        "outputId": "55da7f24-fa1c-4a0c-ffb8-dcc9bc0b3d4a"
      },
      "execution_count": 75,
      "outputs": [
        {
          "output_type": "stream",
          "name": "stdout",
          "text": [
            "['प्रकरण', 'उपरोक्त', 'जेल', 'निरूद्धहै', 'समर्थन', 'परवेज', 'अहमद', 'तरफ', 'शपथ', 'दाखिल', 'दाखिलकरते', 'दिये', 'कथनों', 'सही']\n"
          ]
        }
      ]
    },
    {
      "cell_type": "code",
      "source": [
        "print(words[1545])"
      ],
      "metadata": {
        "colab": {
          "base_uri": "https://localhost:8080/"
        },
        "id": "vCBJovjABg9u",
        "outputId": "47ab1e77-c86d-4187-d1f4-f4e1e70e1293"
      },
      "execution_count": 53,
      "outputs": [
        {
          "output_type": "stream",
          "name": "stdout",
          "text": [
            "['पक्ष', 'तरफ', 'पेश', 'विद्वान्\\\\u200cअधिवक्ता', 'उभय', 'सुना', 'नदीम', 'बावत', 'उपस्थित', '2019जमानत', '02']\n"
          ]
        }
      ]
    },
    {
      "cell_type": "code",
      "source": [
        "print(gt_data[1545])"
      ],
      "metadata": {
        "colab": {
          "base_uri": "https://localhost:8080/"
        },
        "id": "fTD1kyGPM6RI",
        "outputId": "4a6a64fc-832e-4bdd-d54f-87c5bdd03176"
      },
      "execution_count": 76,
      "outputs": [
        {
          "output_type": "stream",
          "name": "stdout",
          "text": [
            "['02', '08', '2019जमानत', 'बावत', 'नदीम', 'पेश', 'तरफ', 'विद्वान्\\\\u200cअधिवक्ता', 'तरफ', 'श्रीअजय', 'उपस्थित', 'उभय', 'पक्ष', 'सुना']\n"
          ]
        }
      ]
    },
    {
      "cell_type": "code",
      "source": [
        "print(words[1664])"
      ],
      "metadata": {
        "colab": {
          "base_uri": "https://localhost:8080/"
        },
        "id": "r-8eYYloBjv_",
        "outputId": "b7c09059-e9bf-4447-ca00-b53def20ed26"
      },
      "execution_count": 54,
      "outputs": [
        {
          "output_type": "stream",
          "name": "stdout",
          "text": [
            "['जोअभियुक्त', 'समर्थन', 'पैरोकारसगा', 'इापथपत्र', 'विमलेश']\n"
          ]
        }
      ]
    },
    {
      "cell_type": "code",
      "source": [
        "print(gt_data[1664])"
      ],
      "metadata": {
        "colab": {
          "base_uri": "https://localhost:8080/"
        },
        "id": "dkOBClqMNBlh",
        "outputId": "c01939dd-9630-4ebb-bfcd-cf4f839060ad"
      },
      "execution_count": 79,
      "outputs": [
        {
          "output_type": "stream",
          "name": "stdout",
          "text": [
            "['समर्थन', 'विमलेश', 'जोअभियुक्त', 'पैरोकारसगा', 'इापथपत्र']\n"
          ]
        }
      ]
    },
    {
      "cell_type": "markdown",
      "source": [
        "#clustering for fastText max-vectorExtrima dim=100,C = {2,3,4}"
      ],
      "metadata": {
        "id": "OuJDrcIaGgRM"
      }
    },
    {
      "cell_type": "code",
      "source": [
        "def w2v_max_transform_words(gt_data,fasttext_transform,num_data_points,dimension):# gt_data = ground truth data,\n",
        "                                                                            #fastText_transform = model.word2vec,\n",
        "                                                                            #dimension = dim of w2vec\n",
        "                                                                            #num_data_points = 2020 for our case\n",
        "\n",
        "  data_xx, words = [],[]\n",
        "  for i in range(num_data_points):\n",
        "    temp = []\n",
        "    for j in gt_data[i]:\n",
        "      temp.append(fasttext_transform[j])\n",
        "    a = np.zeros((1,dimension))\n",
        "    dic = {}\n",
        "    for k in range(dimension):\n",
        "      w_idx = 0\n",
        "      for k1 in range(len(temp)):\n",
        "        c = 1.0 * (temp[k1][k])\n",
        "        if(abs(a[0][k])) < abs(c):\n",
        "          a[0][k] = c\n",
        "          w_idx = k1\n",
        "      if gt_data[i][w_idx] in dic :\n",
        "        dic[gt_data[i][w_idx]] += 1\n",
        "      else :\n",
        "        dic[gt_data[i][w_idx]] = 1\n",
        "    data_xx.append(a)\n",
        "    sorted(dic.items(), key=lambda _: _[1], reverse=True)\n",
        "    cnt = 0\n",
        "    temp1 = []\n",
        "    for key in dic:\n",
        "      temp1.append(key)\n",
        "      cnt +=1\n",
        "      if cnt > 10:\n",
        "        break;\n",
        "    words.append(temp1)\n",
        "  pca_vec = np.zeros((num_data_points,dimension))\n",
        "  for i in range(num_data_points):\n",
        "    for j in range(dimension):\n",
        "      pca_vec[i][j] = data_xx[i][0][j]\n",
        "  return pca_vec,words"
      ],
      "metadata": {
        "id": "y2Nt-jsGGud9"
      },
      "execution_count": 55,
      "outputs": []
    },
    {
      "cell_type": "code",
      "source": [
        "data100_max_vec, words_max = w2v_max_transform_words(gt_data,fasttext_transform100,2020,100)"
      ],
      "metadata": {
        "id": "y1gtCMazG2Su"
      },
      "execution_count": 56,
      "outputs": []
    },
    {
      "cell_type": "code",
      "source": [
        "cluster_model = KMeans(n_clusters=2)\n",
        "clusters = cluster_model.fit_predict(data100_max_vec)\n",
        "# for each cluster [muslim, hindu]\n",
        "fairlet_cluster_stat = [ [0,0] for _ in range(2)]\n",
        "for i in range(2020):\n",
        "  if gt_reli[i] == 1:\n",
        "    fairlet_cluster_stat[clusters[i]][0] += 1\n",
        "  elif gt_reli[i] == 2:\n",
        "    fairlet_cluster_stat[clusters[i]][1] += 1\n",
        "\n",
        "print(fairlet_cluster_stat)"
      ],
      "metadata": {
        "colab": {
          "base_uri": "https://localhost:8080/"
        },
        "id": "TZynSfbhHFST",
        "outputId": "3a7adf7d-e87d-4c58-cb57-4e5976bf3bd1"
      },
      "execution_count": 71,
      "outputs": [
        {
          "output_type": "stream",
          "name": "stderr",
          "text": [
            "/usr/local/lib/python3.10/dist-packages/sklearn/cluster/_kmeans.py:870: FutureWarning: The default value of `n_init` will change from 10 to 'auto' in 1.4. Set the value of `n_init` explicitly to suppress the warning\n",
            "  warnings.warn(\n"
          ]
        },
        {
          "output_type": "stream",
          "name": "stdout",
          "text": [
            "[[443, 506], [567, 504]]\n"
          ]
        }
      ]
    },
    {
      "cell_type": "code",
      "source": [
        "cluster_model = KMeans(n_clusters=3)\n",
        "clusters = cluster_model.fit_predict(data100_max_vec)\n",
        "# for each cluster [muslim, hindu]\n",
        "fairlet_cluster_stat = [ [0,0] for _ in range(3)]\n",
        "for i in range(2020):\n",
        "  if gt_reli[i] == 1:\n",
        "    fairlet_cluster_stat[clusters[i]][0] += 1\n",
        "  elif gt_reli[i] == 2:\n",
        "    fairlet_cluster_stat[clusters[i]][1] += 1\n",
        "\n",
        "print(fairlet_cluster_stat)"
      ],
      "metadata": {
        "colab": {
          "base_uri": "https://localhost:8080/"
        },
        "id": "gT3RxcYRHnpZ",
        "outputId": "a6f2bca1-2d9a-40bc-ce2d-2aea3cb4f6c0"
      },
      "execution_count": 65,
      "outputs": [
        {
          "output_type": "stream",
          "name": "stderr",
          "text": [
            "/usr/local/lib/python3.10/dist-packages/sklearn/cluster/_kmeans.py:870: FutureWarning: The default value of `n_init` will change from 10 to 'auto' in 1.4. Set the value of `n_init` explicitly to suppress the warning\n",
            "  warnings.warn(\n"
          ]
        },
        {
          "output_type": "stream",
          "name": "stdout",
          "text": [
            "[[271, 278], [307, 321], [432, 411]]\n"
          ]
        }
      ]
    },
    {
      "cell_type": "code",
      "source": [
        "cluster_model = KMeans(n_clusters=4)\n",
        "clusters = cluster_model.fit_predict(data100_max_vec)\n",
        "# for each cluster [muslim, hindu]\n",
        "fairlet_cluster_stat = [ [0,0] for _ in range(4)]\n",
        "for i in range(2020):\n",
        "  if gt_reli[i] == 1:\n",
        "    fairlet_cluster_stat[clusters[i]][0] += 1\n",
        "  elif gt_reli[i] == 2:\n",
        "    fairlet_cluster_stat[clusters[i]][1] += 1\n",
        "\n",
        "print(fairlet_cluster_stat)"
      ],
      "metadata": {
        "colab": {
          "base_uri": "https://localhost:8080/"
        },
        "id": "d2QqO-nQH2pc",
        "outputId": "30166504-4315-4e8c-f65e-fb0dbbeb1e2d"
      },
      "execution_count": 73,
      "outputs": [
        {
          "output_type": "stream",
          "name": "stderr",
          "text": [
            "/usr/local/lib/python3.10/dist-packages/sklearn/cluster/_kmeans.py:870: FutureWarning: The default value of `n_init` will change from 10 to 'auto' in 1.4. Set the value of `n_init` explicitly to suppress the warning\n",
            "  warnings.warn(\n"
          ]
        },
        {
          "output_type": "stream",
          "name": "stdout",
          "text": [
            "[[2, 14], [354, 337], [163, 113], [491, 546]]\n"
          ]
        }
      ]
    },
    {
      "cell_type": "code",
      "source": [
        "for i in range(2020):\n",
        "  if clusters[i]==0:\n",
        "    print(i)\n",
        "    print(words_max[i])"
      ],
      "metadata": {
        "colab": {
          "base_uri": "https://localhost:8080/"
        },
        "id": "5uAPbIUhH7ix",
        "outputId": "d2389d2f-7d35-491f-f37e-e2d1a91edf6b"
      },
      "execution_count": 74,
      "outputs": [
        {
          "output_type": "stream",
          "name": "stdout",
          "text": [
            "1049\n",
            "['वएक', 'रंजिश', '©', 'संक्षेप', 'बरामद', 'छप्पर', 'गोवंश', 'बनायी', 'बाँट', 'इतिहास', 'कुल्हाड़ी']\n",
            "1050\n",
            "['वएक', 'रंजिश', '©', 'संक्षेप', 'बरामद', 'छप्पर', 'गोवंश', 'बनायी', 'बाँट', 'इतिहास', 'कुल्हाड़ी']\n",
            "1080\n",
            "['©', 'मास्टर', 'प्रपत्र', 'निष्पादित', 'मौके', 'आधारकार्ड', 'विरूद्ध', 'षडयंत्र', 'बतायी', 'मांगा', 'इतिहास']\n",
            "1585\n",
            "['©', 'अनपढ़', 'अभियुक्तों', '54', 'बरामद', 'पाट', 'अन्तगत', 'करायी', 'मेहनतकश', 'बजकर', 'दर्ज']\n",
            "1610\n",
            "['©', '\\\\', '27', 'मोहम्मद', 'वर्ष', 'पत्रों', 'अधिनियम', 'हसनाडीह', 'मुजफ्फरनगर', 'संतकबीरनगर', 'तौफीक']\n",
            "1611\n",
            "['©', '\\\\', '27', 'मोहम्मद', 'वर्ष', 'पत्रों', 'अधिनियम', 'हसनाडीह', 'मुजफ्फरनगर', 'संतकबीरनगर', 'तौफीक']\n",
            "1665\n",
            "['©', 'बेटा', 'तथ्यों', 'रहता', 'दिर्नोक', 'मन्ना', 'नामित', 'कुलदीप', 'इतिहास', 'कारित', 'रात']\n",
            "1666\n",
            "['©', 'बेटा', 'तथ्यों', 'रहता', 'दिर्नोक', 'मन्ना', 'नामित', 'कुलदीप', 'इतिहास', 'कारित', 'रात']\n",
            "1667\n",
            "['©', 'बेटा', 'तथ्यों', 'रहता', 'दिर्नोक', 'मन्ना', 'नामित', 'कुलदीप', 'इतिहास', 'कारित', 'रात']\n",
            "1668\n",
            "['©', 'बेटा', 'तथ्यों', 'रहता', 'दिर्नोक', 'मन्ना', 'नामित', 'कुलदीप', 'इतिहास', 'कारित', 'रात']\n",
            "1669\n",
            "['©', 'बेटा', 'तथ्यों', 'रहता', 'दिर्नोक', 'मन्ना', 'नामित', 'कुलदीप', 'इतिहास', 'कारित', 'रात']\n",
            "1670\n",
            "['©', 'बेटा', 'तथ्यों', 'रहता', 'दिर्नोक', 'मन्ना', 'नामित', 'कुलदीप', 'इतिहास', 'कारित', 'रात']\n",
            "1764\n",
            "['वएक', 'कुल्हाड़ी', '©', 'संक्षेप', 'बरामद', 'छप्पर', 'गोवंश', 'बनायी', 'परधारा', 'इतिहास', 'अधिनियम']\n",
            "1765\n",
            "['वएक', 'कुल्हाड़ी', '©', 'संक्षेप', 'बरामद', 'छप्पर', 'गोवंश', 'बनायी', 'परधारा', 'इतिहास', 'अधिनियम']\n",
            "1951\n",
            "['©', 'ब्रिजेश', 'संक्षेप', 'बरामद', 'यापन', 'गंग', 'स्विच', 'नामजद', 'चुकी', '04', 'दर्ज']\n",
            "1952\n",
            "['©', 'ब्रिजेश', 'संक्षेप', 'बरामद', 'यापन', 'गंग', 'स्विच', 'नामजद', 'चुकी', '04', 'दर्ज']\n"
          ]
        }
      ]
    },
    {
      "cell_type": "markdown",
      "source": [
        "'©' may be the cause of anamoly (2,14) in clustering, similar things appeared in the c==2 and c == 3 sometimes"
      ],
      "metadata": {
        "id": "fEr7OFofIWd4"
      }
    },
    {
      "cell_type": "code",
      "source": [],
      "metadata": {
        "id": "4w6Ee31aPEl6"
      },
      "execution_count": null,
      "outputs": []
    },
    {
      "cell_type": "markdown",
      "source": [
        "#clustering for fastText max-vectorExtrima dim=50,C = {2,3,4,5,6,7}"
      ],
      "metadata": {
        "id": "EvkTFl1APFF2"
      }
    },
    {
      "cell_type": "code",
      "source": [
        "model = FastText.load('/content/drive/MyDrive/Fairness in machine learning/word embedding Models /Hindi/50/fasttext/hi-d50-m2-fasttext.model')\n",
        "fasttext_transform = model.wv"
      ],
      "metadata": {
        "id": "WCkE2I6EO5-1"
      },
      "execution_count": 80,
      "outputs": []
    },
    {
      "cell_type": "code",
      "source": [
        "data50_max_vec, words_max = w2v_max_transform_words(gt_data,fasttext_transform,2020,50)"
      ],
      "metadata": {
        "id": "9l57Dcr3PNAw"
      },
      "execution_count": 81,
      "outputs": []
    },
    {
      "cell_type": "code",
      "source": [
        "cluster_model = KMeans(n_clusters=2)\n",
        "clusters = cluster_model.fit_predict(data50_max_vec)\n",
        "# for each cluster [muslim, hindu]\n",
        "fairlet_cluster_stat = [ [0,0] for _ in range(2)]\n",
        "for i in range(2020):\n",
        "  if gt_reli[i] == 1:\n",
        "    fairlet_cluster_stat[clusters[i]][0] += 1\n",
        "  elif gt_reli[i] == 2:\n",
        "    fairlet_cluster_stat[clusters[i]][1] += 1\n",
        "\n",
        "print(fairlet_cluster_stat)"
      ],
      "metadata": {
        "colab": {
          "base_uri": "https://localhost:8080/"
        },
        "id": "rpCzXqCRP2UW",
        "outputId": "9c45c84e-b75e-4a44-98cf-5971a1c96bfe"
      },
      "execution_count": 85,
      "outputs": [
        {
          "output_type": "stream",
          "name": "stderr",
          "text": [
            "/usr/local/lib/python3.10/dist-packages/sklearn/cluster/_kmeans.py:870: FutureWarning: The default value of `n_init` will change from 10 to 'auto' in 1.4. Set the value of `n_init` explicitly to suppress the warning\n",
            "  warnings.warn(\n"
          ]
        },
        {
          "output_type": "stream",
          "name": "stdout",
          "text": [
            "[[443, 537], [567, 473]]\n"
          ]
        }
      ]
    },
    {
      "cell_type": "code",
      "source": [
        "cluster_model = KMeans(n_clusters=3)\n",
        "clusters = cluster_model.fit_predict(data50_max_vec)\n",
        "# for each cluster [muslim, hindu]\n",
        "fairlet_cluster_stat = [ [0,0] for _ in range(3)]\n",
        "for i in range(2020):\n",
        "  if gt_reli[i] == 1:\n",
        "    fairlet_cluster_stat[clusters[i]][0] += 1\n",
        "  elif gt_reli[i] == 2:\n",
        "    fairlet_cluster_stat[clusters[i]][1] += 1\n",
        "\n",
        "print(fairlet_cluster_stat)"
      ],
      "metadata": {
        "colab": {
          "base_uri": "https://localhost:8080/"
        },
        "id": "hUKkJJubQKhE",
        "outputId": "3581f30c-1e45-480a-9705-6cfd72d971fc"
      },
      "execution_count": 89,
      "outputs": [
        {
          "output_type": "stream",
          "name": "stderr",
          "text": [
            "/usr/local/lib/python3.10/dist-packages/sklearn/cluster/_kmeans.py:870: FutureWarning: The default value of `n_init` will change from 10 to 'auto' in 1.4. Set the value of `n_init` explicitly to suppress the warning\n",
            "  warnings.warn(\n"
          ]
        },
        {
          "output_type": "stream",
          "name": "stdout",
          "text": [
            "[[388, 388], [238, 112], [384, 510]]\n"
          ]
        }
      ]
    },
    {
      "cell_type": "code",
      "source": [
        "cluster_model = KMeans(n_clusters=4)\n",
        "clusters = cluster_model.fit_predict(data50_max_vec)\n",
        "# for each cluster [muslim, hindu]\n",
        "fairlet_cluster_stat = [ [0,0] for _ in range(4)]\n",
        "for i in range(2020):\n",
        "  if gt_reli[i] == 1:\n",
        "    fairlet_cluster_stat[clusters[i]][0] += 1\n",
        "  elif gt_reli[i] == 2:\n",
        "    fairlet_cluster_stat[clusters[i]][1] += 1\n",
        "\n",
        "print(fairlet_cluster_stat)"
      ],
      "metadata": {
        "colab": {
          "base_uri": "https://localhost:8080/"
        },
        "id": "jr14vUL9QN-2",
        "outputId": "8ebe9ac7-ad60-4483-de19-514ff3f62ac4"
      },
      "execution_count": 93,
      "outputs": [
        {
          "output_type": "stream",
          "name": "stderr",
          "text": [
            "/usr/local/lib/python3.10/dist-packages/sklearn/cluster/_kmeans.py:870: FutureWarning: The default value of `n_init` will change from 10 to 'auto' in 1.4. Set the value of `n_init` explicitly to suppress the warning\n",
            "  warnings.warn(\n"
          ]
        },
        {
          "output_type": "stream",
          "name": "stdout",
          "text": [
            "[[326, 390], [161, 110], [114, 63], [409, 447]]\n"
          ]
        }
      ]
    },
    {
      "cell_type": "code",
      "source": [
        "cluster_model = KMeans(n_clusters=5)\n",
        "clusters = cluster_model.fit_predict(data50_max_vec)\n",
        "# for each cluster [muslim, hindu]\n",
        "fairlet_cluster_stat = [ [0,0] for _ in range(5)]\n",
        "for i in range(2020):\n",
        "  if gt_reli[i] == 1:\n",
        "    fairlet_cluster_stat[clusters[i]][0] += 1\n",
        "  elif gt_reli[i] == 2:\n",
        "    fairlet_cluster_stat[clusters[i]][1] += 1\n",
        "\n",
        "print(fairlet_cluster_stat)"
      ],
      "metadata": {
        "colab": {
          "base_uri": "https://localhost:8080/"
        },
        "id": "QmTgvKKXQYNj",
        "outputId": "86a014b7-e632-493d-d034-d5ea414db6ef"
      },
      "execution_count": 96,
      "outputs": [
        {
          "output_type": "stream",
          "name": "stderr",
          "text": [
            "/usr/local/lib/python3.10/dist-packages/sklearn/cluster/_kmeans.py:870: FutureWarning: The default value of `n_init` will change from 10 to 'auto' in 1.4. Set the value of `n_init` explicitly to suppress the warning\n",
            "  warnings.warn(\n"
          ]
        },
        {
          "output_type": "stream",
          "name": "stdout",
          "text": [
            "[[119, 181], [150, 70], [408, 369], [331, 376], [2, 14]]\n"
          ]
        }
      ]
    },
    {
      "cell_type": "code",
      "source": [
        "for i in range(2020):\n",
        "  if clusters[i]==4:\n",
        "    print(i)\n",
        "    print(words_max[i])"
      ],
      "metadata": {
        "colab": {
          "base_uri": "https://localhost:8080/"
        },
        "id": "3fnUxhkfQeDs",
        "outputId": "e3af0c88-44d5-475e-e492-8296975ed887"
      },
      "execution_count": 97,
      "outputs": [
        {
          "output_type": "stream",
          "name": "stdout",
          "text": [
            "1049\n",
            "['अभिरक्षा', '©', 'पंजीकृत', 'कुल्हाड़ी', 'परमांस', 'महिला', 'कथान', 'रंजिश', 'बरामद', 'किलोग्राम', 'करीब']\n",
            "1050\n",
            "['अभिरक्षा', '©', 'पंजीकृत', 'कुल्हाड़ी', 'परमांस', 'महिला', 'कथान', 'रंजिश', 'बरामद', 'किलोग्राम', 'करीब']\n",
            "1080\n",
            "['अभियुक्तके', '©', 'बॉट', 'व्यक्ति', 'बनवाया', 'बेचना', 'दिखाई', 'बताया', 'मामला', 'मौके', 'मास्टर']\n",
            "1585\n",
            "['न्यायाधीश', '©', 'गिराने', 'गोली', 'सत्र', 'जिले', 'सर्वथा', 'बताया', 'दर्ज', 'टीम', 'बजकर']\n",
            "1610\n",
            "['आदेश', '©', 'अम्बेडकरनगर', 'पशु', '\\\\', 'मुजफ्फरनगर', 'अतरौला', 'वर्ष', 'तुर्कपट्टी', 'तौफीक', 'निस्तारण']\n",
            "1611\n",
            "['आदेश', '©', 'अम्बेडकरनगर', 'पशु', '\\\\', 'मुजफ्फरनगर', 'अतरौला', 'वर्ष', 'तुर्कपट्टी', 'तौफीक', 'निस्तारण']\n",
            "1665\n",
            "['अभिरक्षा', '©', 'कैन्ट', 'व्यक्ति', 'झाड़ियोंमें', 'पोस्टमार्टम', 'मेहनत', 'शर्तों', 'करीब', 'बजे', 'लिखवाने']\n",
            "1666\n",
            "['अभिरक्षा', '©', 'कैन्ट', 'व्यक्ति', 'झाड़ियोंमें', 'पोस्टमार्टम', 'मेहनत', 'शर्तों', 'करीब', 'बजे', 'लिखवाने']\n",
            "1667\n",
            "['अभिरक्षा', '©', 'कैन्ट', 'व्यक्ति', 'झाड़ियोंमें', 'पोस्टमार्टम', 'मेहनत', 'शर्तों', 'करीब', 'बजे', 'लिखवाने']\n",
            "1668\n",
            "['अभिरक्षा', '©', 'कैन्ट', 'व्यक्ति', 'झाड़ियोंमें', 'पोस्टमार्टम', 'मेहनत', 'शर्तों', 'करीब', 'बजे', 'लिखवाने']\n",
            "1669\n",
            "['अभिरक्षा', '©', 'कैन्ट', 'व्यक्ति', 'झाड़ियोंमें', 'पोस्टमार्टम', 'मेहनत', 'शर्तों', 'करीब', 'बजे', 'लिखवाने']\n",
            "1670\n",
            "['अभिरक्षा', '©', 'कैन्ट', 'व्यक्ति', 'झाड़ियोंमें', 'पोस्टमार्टम', 'मेहनत', 'शर्तों', 'करीब', 'बजे', 'लिखवाने']\n",
            "1764\n",
            "['अभिरक्षा', '©', 'कलऊ', 'कुल्हाड़ी', 'परमांस', 'आरोप', 'कथान', 'बताया', 'दर्ज', 'सामग्री', 'करीब']\n",
            "1765\n",
            "['अभिरक्षा', '©', 'कलऊ', 'कुल्हाड़ी', 'परमांस', 'आरोप', 'कथान', 'बताया', 'दर्ज', 'सामग्री', 'करीब']\n",
            "1951\n",
            "['विचाराधीन', '©', '04', 'घोटकर', 'दर्ज', 'विवेचना', 'बताया', 'स्विच', 'सोनू', 'गजेन्द्र', 'बजे']\n",
            "1952\n",
            "['विचाराधीन', '©', '04', 'घोटकर', 'दर्ज', 'विवेचना', 'बताया', 'स्विच', 'सोनू', 'गजेन्द्र', 'बजे']\n"
          ]
        }
      ]
    },
    {
      "cell_type": "code",
      "source": [
        "fasttext_transform['©']"
      ],
      "metadata": {
        "colab": {
          "base_uri": "https://localhost:8080/"
        },
        "id": "PKwIdz6RQt22",
        "outputId": "6494177e-7b83-45fa-a199-c431a74bb04f"
      },
      "execution_count": 98,
      "outputs": [
        {
          "output_type": "execute_result",
          "data": {
            "text/plain": [
              "array([-4.4502273e-01,  2.7207162e+00,  2.8904908e+00,  1.5409820e+00,\n",
              "        1.0540397e+00, -2.9590745e+00,  3.4554572e+00, -1.7680347e+00,\n",
              "       -3.5561845e-02, -1.5542344e+00,  4.4324601e-01, -1.8334730e+00,\n",
              "        2.1995625e-01,  7.3927957e-01,  1.8046850e-01,  2.2925346e+00,\n",
              "       -1.4831460e+00, -4.8516339e-01, -1.4642321e+00, -1.5277002e+00,\n",
              "        1.2208945e+00, -7.3122758e-01,  5.2647353e-03, -4.9016872e-01,\n",
              "       -1.6618636e-01, -5.5841750e-01,  9.4246161e-01,  1.1489054e+00,\n",
              "       -1.5101674e+00, -2.5537257e+00, -2.1950045e+00,  3.3685379e+00,\n",
              "        1.3184285e+00, -2.7486577e+00, -7.7178466e-01, -3.0792396e+00,\n",
              "       -1.1004215e+00,  1.6768632e+00,  8.8035691e-01, -1.2426320e+00,\n",
              "        1.2017791e+00,  3.2938251e-01, -6.0112276e+00,  2.2859661e-01,\n",
              "        2.2742679e+00,  2.2394598e+00,  4.6729267e-01,  8.4418291e-01,\n",
              "        1.1013473e+00, -1.9573376e+00], dtype=float32)"
            ]
          },
          "metadata": {},
          "execution_count": 98
        }
      ]
    },
    {
      "cell_type": "code",
      "source": [
        "fasttext_transform100['©']"
      ],
      "metadata": {
        "colab": {
          "base_uri": "https://localhost:8080/"
        },
        "id": "VJvQ34gpQym0",
        "outputId": "be2bfd24-3c4c-469c-c64f-fdcfb4e390f9"
      },
      "execution_count": 99,
      "outputs": [
        {
          "output_type": "execute_result",
          "data": {
            "text/plain": [
              "array([ 1.0181823 , -0.6427228 , -1.0761545 ,  0.3237581 , -1.0491927 ,\n",
              "       -0.78882474,  1.6886244 ,  3.0198946 , -1.6245247 ,  1.7015213 ,\n",
              "        0.75098366, -2.0930898 ,  0.556183  ,  1.6104473 , -0.9720904 ,\n",
              "       -0.2378916 ,  1.1778954 , -2.3406138 ,  0.14795497,  0.35722196,\n",
              "        3.003496  ,  0.43386656, -0.17612776,  2.5319023 ,  0.27653825,\n",
              "        0.3827622 , -1.5874802 , -0.24408561,  0.43974328,  1.2590599 ,\n",
              "       -0.8374781 , -1.9142909 , -0.8312598 , -2.4234796 ,  0.679487  ,\n",
              "        1.0463756 ,  0.72530735,  0.10706817, -2.6013286 ,  0.8479765 ,\n",
              "       -1.1486624 ,  0.41369286, -0.17823222,  0.48435518,  2.042489  ,\n",
              "        0.5617478 , -0.23916054, -0.05318616,  2.0220811 , -0.5014304 ,\n",
              "       -0.05293231,  1.1135066 , -0.76076233,  0.56450003,  1.9261488 ,\n",
              "        0.424216  , -0.9498665 ,  2.0853276 ,  0.39595664, -0.00480871,\n",
              "        0.24095546,  3.0842884 ,  0.21426383,  1.2583991 , -3.1646495 ,\n",
              "        0.13612215, -2.2236483 ,  1.0236353 ,  0.08047843,  0.6250084 ,\n",
              "        1.648901  , -1.3525238 , -0.17960036, -0.32289144, -0.5791731 ,\n",
              "       -2.3251598 , -0.6416762 , -2.134239  ,  0.36476842,  0.31786343,\n",
              "       -0.65250057, -2.8223598 , -1.3680009 , -3.5368524 , -2.7167468 ,\n",
              "        1.4462249 ,  0.49197498,  3.3663275 , -0.5533441 ,  0.7963012 ,\n",
              "       -3.3695524 ,  1.7424973 ,  0.78988606, -0.42828086,  1.6647024 ,\n",
              "        0.994928  , -0.68264186,  0.33773315, -0.44006613,  0.81184983],\n",
              "      dtype=float32)"
            ]
          },
          "metadata": {},
          "execution_count": 99
        }
      ]
    },
    {
      "cell_type": "code",
      "source": [
        "cluster_model = KMeans(n_clusters=6)\n",
        "clusters = cluster_model.fit_predict(data50_max_vec)\n",
        "# for each cluster [muslim, hindu]\n",
        "fairlet_cluster_stat = [ [0,0] for _ in range(6)]\n",
        "for i in range(2020):\n",
        "  if gt_reli[i] == 1:\n",
        "    fairlet_cluster_stat[clusters[i]][0] += 1\n",
        "  elif gt_reli[i] == 2:\n",
        "    fairlet_cluster_stat[clusters[i]][1] += 1\n",
        "\n",
        "print(fairlet_cluster_stat)"
      ],
      "metadata": {
        "colab": {
          "base_uri": "https://localhost:8080/"
        },
        "id": "TgOyuXI4Q5e5",
        "outputId": "c868d70a-d9cf-480b-a810-6eab19e72736"
      },
      "execution_count": 102,
      "outputs": [
        {
          "output_type": "stream",
          "name": "stderr",
          "text": [
            "/usr/local/lib/python3.10/dist-packages/sklearn/cluster/_kmeans.py:870: FutureWarning: The default value of `n_init` will change from 10 to 'auto' in 1.4. Set the value of `n_init` explicitly to suppress the warning\n",
            "  warnings.warn(\n"
          ]
        },
        {
          "output_type": "stream",
          "name": "stdout",
          "text": [
            "[[2, 14], [242, 273], [112, 60], [223, 263], [161, 86], [270, 314]]\n"
          ]
        }
      ]
    },
    {
      "cell_type": "code",
      "source": [
        "for i in range(2020):\n",
        "  if clusters[i]==0:\n",
        "    print(i)\n",
        "    print(words_max[i])"
      ],
      "metadata": {
        "colab": {
          "base_uri": "https://localhost:8080/"
        },
        "id": "cMWNQgCQRDDH",
        "outputId": "35c88f1e-a3f3-43cf-aab3-e1b91bcff9dc"
      },
      "execution_count": 103,
      "outputs": [
        {
          "output_type": "stream",
          "name": "stdout",
          "text": [
            "1049\n",
            "['अभिरक्षा', '©', 'पंजीकृत', 'कुल्हाड़ी', 'परमांस', 'महिला', 'कथान', 'रंजिश', 'बरामद', 'किलोग्राम', 'करीब']\n",
            "1050\n",
            "['अभिरक्षा', '©', 'पंजीकृत', 'कुल्हाड़ी', 'परमांस', 'महिला', 'कथान', 'रंजिश', 'बरामद', 'किलोग्राम', 'करीब']\n",
            "1080\n",
            "['अभियुक्तके', '©', 'बॉट', 'व्यक्ति', 'बनवाया', 'बेचना', 'दिखाई', 'बताया', 'मामला', 'मौके', 'मास्टर']\n",
            "1585\n",
            "['न्यायाधीश', '©', 'गिराने', 'गोली', 'सत्र', 'जिले', 'सर्वथा', 'बताया', 'दर्ज', 'टीम', 'बजकर']\n",
            "1610\n",
            "['आदेश', '©', 'अम्बेडकरनगर', 'पशु', '\\\\', 'मुजफ्फरनगर', 'अतरौला', 'वर्ष', 'तुर्कपट्टी', 'तौफीक', 'निस्तारण']\n",
            "1611\n",
            "['आदेश', '©', 'अम्बेडकरनगर', 'पशु', '\\\\', 'मुजफ्फरनगर', 'अतरौला', 'वर्ष', 'तुर्कपट्टी', 'तौफीक', 'निस्तारण']\n",
            "1665\n",
            "['अभिरक्षा', '©', 'कैन्ट', 'व्यक्ति', 'झाड़ियोंमें', 'पोस्टमार्टम', 'मेहनत', 'शर्तों', 'करीब', 'बजे', 'लिखवाने']\n",
            "1666\n",
            "['अभिरक्षा', '©', 'कैन्ट', 'व्यक्ति', 'झाड़ियोंमें', 'पोस्टमार्टम', 'मेहनत', 'शर्तों', 'करीब', 'बजे', 'लिखवाने']\n",
            "1667\n",
            "['अभिरक्षा', '©', 'कैन्ट', 'व्यक्ति', 'झाड़ियोंमें', 'पोस्टमार्टम', 'मेहनत', 'शर्तों', 'करीब', 'बजे', 'लिखवाने']\n",
            "1668\n",
            "['अभिरक्षा', '©', 'कैन्ट', 'व्यक्ति', 'झाड़ियोंमें', 'पोस्टमार्टम', 'मेहनत', 'शर्तों', 'करीब', 'बजे', 'लिखवाने']\n",
            "1669\n",
            "['अभिरक्षा', '©', 'कैन्ट', 'व्यक्ति', 'झाड़ियोंमें', 'पोस्टमार्टम', 'मेहनत', 'शर्तों', 'करीब', 'बजे', 'लिखवाने']\n",
            "1670\n",
            "['अभिरक्षा', '©', 'कैन्ट', 'व्यक्ति', 'झाड़ियोंमें', 'पोस्टमार्टम', 'मेहनत', 'शर्तों', 'करीब', 'बजे', 'लिखवाने']\n",
            "1764\n",
            "['अभिरक्षा', '©', 'कलऊ', 'कुल्हाड़ी', 'परमांस', 'आरोप', 'कथान', 'बताया', 'दर्ज', 'सामग्री', 'करीब']\n",
            "1765\n",
            "['अभिरक्षा', '©', 'कलऊ', 'कुल्हाड़ी', 'परमांस', 'आरोप', 'कथान', 'बताया', 'दर्ज', 'सामग्री', 'करीब']\n",
            "1951\n",
            "['विचाराधीन', '©', '04', 'घोटकर', 'दर्ज', 'विवेचना', 'बताया', 'स्विच', 'सोनू', 'गजेन्द्र', 'बजे']\n",
            "1952\n",
            "['विचाराधीन', '©', '04', 'घोटकर', 'दर्ज', 'विवेचना', 'बताया', 'स्विच', 'सोनू', 'गजेन्द्र', 'बजे']\n"
          ]
        }
      ]
    },
    {
      "cell_type": "code",
      "source": [
        "cluster_model = KMeans(n_clusters=7)\n",
        "clusters = cluster_model.fit_predict(data50_max_vec)\n",
        "# for each cluster [muslim, hindu]\n",
        "fairlet_cluster_stat = [ [0,0] for _ in range(7)]\n",
        "for i in range(2020):\n",
        "  if gt_reli[i] == 1:\n",
        "    fairlet_cluster_stat[clusters[i]][0] += 1\n",
        "  elif gt_reli[i] == 2:\n",
        "    fairlet_cluster_stat[clusters[i]][1] += 1\n",
        "\n",
        "print(fairlet_cluster_stat)"
      ],
      "metadata": {
        "colab": {
          "base_uri": "https://localhost:8080/"
        },
        "id": "Fc2xPUfDRZIt",
        "outputId": "3ccf480e-d3b6-4971-d308-aa13d1efc36a"
      },
      "execution_count": 104,
      "outputs": [
        {
          "output_type": "stream",
          "name": "stderr",
          "text": [
            "/usr/local/lib/python3.10/dist-packages/sklearn/cluster/_kmeans.py:870: FutureWarning: The default value of `n_init` will change from 10 to 'auto' in 1.4. Set the value of `n_init` explicitly to suppress the warning\n",
            "  warnings.warn(\n"
          ]
        },
        {
          "output_type": "stream",
          "name": "stdout",
          "text": [
            "[[188, 258], [167, 196], [258, 258], [171, 176], [144, 86], [80, 22], [2, 14]]\n"
          ]
        }
      ]
    }
  ],
  "metadata": {
    "colab": {
      "provenance": [],
      "toc_visible": true,
      "mount_file_id": "19piK5QV5saCb5Sf71jlppLOfGeE_dK6U",
      "authorship_tag": "ABX9TyO3uHbwGXCPAODdRsCGj/OH",
      "include_colab_link": true
    },
    "kernelspec": {
      "display_name": "Python 3",
      "name": "python3"
    },
    "language_info": {
      "name": "python"
    }
  },
  "nbformat": 4,
  "nbformat_minor": 0
}